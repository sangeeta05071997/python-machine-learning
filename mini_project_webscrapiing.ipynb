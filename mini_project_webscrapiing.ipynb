{
  "nbformat": 4,
  "nbformat_minor": 0,
  "metadata": {
    "colab": {
      "provenance": [],
      "authorship_tag": "ABX9TyPVvFLFeuFYOB6k6HSqz4kC",
      "include_colab_link": true
    },
    "kernelspec": {
      "name": "python3",
      "display_name": "Python 3"
    },
    "language_info": {
      "name": "python"
    }
  },
  "cells": [
    {
      "cell_type": "markdown",
      "metadata": {
        "id": "view-in-github",
        "colab_type": "text"
      },
      "source": [
        "<a href=\"https://colab.research.google.com/github/sangeeta05071997/python-machine-learning/blob/main/mini_project_webscrapiing.ipynb\" target=\"_parent\"><img src=\"https://colab.research.google.com/assets/colab-badge.svg\" alt=\"Open In Colab\"/></a>"
      ]
    },
    {
      "cell_type": "code",
      "execution_count": 191,
      "metadata": {
        "id": "0MFXsEBq8fSy"
      },
      "outputs": [],
      "source": [
        "from bs4 import BeautifulSoup\n",
        "import pandas as pd\n",
        "import requests"
      ]
    },
    {
      "cell_type": "markdown",
      "source": [
        "1. Hyundai i10 Cars"
      ],
      "metadata": {
        "id": "gYTP3YN3-IJl"
      }
    },
    {
      "cell_type": "code",
      "source": [
        "website = 'https://www.cardekho.com/used-car-details/used-Hyundai-i10-sportz-11l-cars-Jaipur_8fae9c08-2471-445d-b139-1f472e368fbb.htm'\n",
        "headers = {\"User-Agent\" : \"Mozilla/5.0 (Windows NT 10.0; Win64; x64) AppleWebKit/537.36 (KHTML, like Gecko) Chrome/137.0.0.0 Safari/537.36 Edg/137.0.0.0\"}"
      ],
      "metadata": {
        "id": "otq6-M8y8jlo"
      },
      "execution_count": 192,
      "outputs": []
    },
    {
      "cell_type": "code",
      "source": [
        "response = requests.get(website,headers=headers)"
      ],
      "metadata": {
        "id": "FeD9jmsq8pG4"
      },
      "execution_count": 193,
      "outputs": []
    },
    {
      "cell_type": "code",
      "source": [
        "if response.status_code == 200:\n",
        "    #print(response.status_code)\n",
        "    html_content = response.text\n",
        "else:\n",
        "    print(\"fetching error\",response.status_code)"
      ],
      "metadata": {
        "id": "NBUoDAlN8sRQ"
      },
      "execution_count": 194,
      "outputs": []
    },
    {
      "cell_type": "code",
      "source": [
        "soup = BeautifulSoup(html_content, 'html.parser')"
      ],
      "metadata": {
        "id": "FY39ULcX87PG"
      },
      "execution_count": 195,
      "outputs": []
    },
    {
      "cell_type": "code",
      "source": [
        "Car_Name = soup.find('div',class_='vehicleName').text"
      ],
      "metadata": {
        "id": "M6AqR19V8_a8"
      },
      "execution_count": 196,
      "outputs": []
    },
    {
      "cell_type": "code",
      "source": [
        "print(Car_Name)"
      ],
      "metadata": {
        "colab": {
          "base_uri": "https://localhost:8080/"
        },
        "id": "ZoonF0gb9Crt",
        "outputId": "03ecd09d-7edc-4210-a9d6-1d333be21bbe"
      },
      "execution_count": 197,
      "outputs": [
        {
          "output_type": "stream",
          "name": "stdout",
          "text": [
            "2017 Hyundai i10 Sportz 1.1L\n"
          ]
        }
      ]
    },
    {
      "cell_type": "code",
      "source": [
        "desired_labels = ['Year of Manufacture', 'Fuel Type', 'Transmission', 'Kms Driven']"
      ],
      "metadata": {
        "id": "V77p0DIs9Fx8"
      },
      "execution_count": 198,
      "outputs": []
    },
    {
      "cell_type": "code",
      "source": [
        "items = soup.select('ul.detailsList li')"
      ],
      "metadata": {
        "id": "GqyQ5Zf09IxO"
      },
      "execution_count": 199,
      "outputs": []
    },
    {
      "cell_type": "code",
      "source": [
        "car_info = {}\n",
        "\n",
        "for item in items:\n",
        "    label = item.find('div', class_='label').get_text(strip=True)\n",
        "    if label in desired_labels:\n",
        "        value = item.find('span', class_='value-text').get_text(strip=True)\n",
        "        car_info[label] = value\n",
        "\n",
        "print(car_info)"
      ],
      "metadata": {
        "colab": {
          "base_uri": "https://localhost:8080/"
        },
        "id": "nbr5h3Mh9MdC",
        "outputId": "f430a2c3-dfed-4004-bd4d-f55d15cc132c"
      },
      "execution_count": 200,
      "outputs": [
        {
          "output_type": "stream",
          "name": "stdout",
          "text": [
            "{'Fuel Type': 'Petrol', 'Kms Driven': '67,000 Kms', 'Transmission': 'Manual', 'Year of Manufacture': '2017'}\n"
          ]
        }
      ]
    },
    {
      "cell_type": "code",
      "source": [
        "Car_Price = soup.find('div',class_='vehiclePrice').text"
      ],
      "metadata": {
        "id": "bUrp0laS9Prh"
      },
      "execution_count": 201,
      "outputs": []
    },
    {
      "cell_type": "code",
      "source": [
        "print(Car_Price)"
      ],
      "metadata": {
        "colab": {
          "base_uri": "https://localhost:8080/"
        },
        "id": "U23Ryxof9Tza",
        "outputId": "0b03c258-4f3f-4b90-f4c0-d34ad80e0153"
      },
      "execution_count": 202,
      "outputs": [
        {
          "output_type": "stream",
          "name": "stdout",
          "text": [
            "₹4.50 Lakh Make Your Offer\n"
          ]
        }
      ]
    },
    {
      "cell_type": "markdown",
      "source": [
        "2. Maruti Swift Cars"
      ],
      "metadata": {
        "id": "CXf6g4CD_DOo"
      }
    },
    {
      "cell_type": "code",
      "source": [
        "website = 'https://www.cardekho.com/used-car-details/used-Maruti-swift-lxi-bsiv-cars-Mumbai_da8d64d1-1fa5-40e5-9cb6-4c78a756f140.htm'\n",
        "headers = {\"User-Agent\" : \"Mozilla/5.0 (Windows NT 10.0; Win64; x64) AppleWebKit/537.36 (KHTML, like Gecko) Chrome/137.0.0.0 Safari/537.36 Edg/137.0.0.0\"}"
      ],
      "metadata": {
        "id": "sMlXRI4v_GIp"
      },
      "execution_count": 203,
      "outputs": []
    },
    {
      "cell_type": "code",
      "source": [
        "response = requests.get(website,headers=headers)"
      ],
      "metadata": {
        "id": "7GIx4q-9_Ua5"
      },
      "execution_count": 204,
      "outputs": []
    },
    {
      "cell_type": "code",
      "source": [
        "if response.status_code == 200:\n",
        "    #print(response.status_code)\n",
        "    html_content = response.text\n",
        "else:\n",
        "    print(\"fetching error\",response.status_code)"
      ],
      "metadata": {
        "id": "O5TzIRtc_bi3"
      },
      "execution_count": 205,
      "outputs": []
    },
    {
      "cell_type": "code",
      "source": [
        "soup = BeautifulSoup(html_content, 'html.parser')"
      ],
      "metadata": {
        "id": "7lDWfmIH_ecT"
      },
      "execution_count": 206,
      "outputs": []
    },
    {
      "cell_type": "code",
      "source": [
        "Car_Name = soup.find('div',class_='vehicleName').text\n",
        "print(Car_Name)"
      ],
      "metadata": {
        "colab": {
          "base_uri": "https://localhost:8080/"
        },
        "id": "MS_8YQIF_iq9",
        "outputId": "6aae13e5-0ba3-4512-81f6-5951574c11fd"
      },
      "execution_count": 207,
      "outputs": [
        {
          "output_type": "stream",
          "name": "stdout",
          "text": [
            "2016 Maruti Swift LXI BSIV\n"
          ]
        }
      ]
    },
    {
      "cell_type": "code",
      "source": [
        "Car_Price = soup.find('div',class_='vehiclePrice').text"
      ],
      "metadata": {
        "id": "pzhrjjxr_lS-"
      },
      "execution_count": 208,
      "outputs": []
    },
    {
      "cell_type": "code",
      "source": [
        "print(Car_Price)"
      ],
      "metadata": {
        "colab": {
          "base_uri": "https://localhost:8080/"
        },
        "id": "KQhKlu_m_slM",
        "outputId": "c1f52892-cbb5-44fa-e1b0-293c13af7bc6"
      },
      "execution_count": 209,
      "outputs": [
        {
          "output_type": "stream",
          "name": "stdout",
          "text": [
            "₹4.75 Lakh Make Your Offer\n"
          ]
        }
      ]
    },
    {
      "cell_type": "code",
      "source": [
        "desired_labels = ['Year of Manufacture', 'Fuel Type', 'Transmission', 'Kms Driven']"
      ],
      "metadata": {
        "id": "53kaizwl_vcl"
      },
      "execution_count": 210,
      "outputs": []
    },
    {
      "cell_type": "code",
      "source": [
        "items = soup.select('ul.detailsList li')"
      ],
      "metadata": {
        "id": "zxX2MF4R_y-r"
      },
      "execution_count": 211,
      "outputs": []
    },
    {
      "cell_type": "code",
      "source": [
        "car_info = {}\n",
        "\n",
        "for item in items:\n",
        "    label = item.find('div', class_='label').get_text(strip=True)\n",
        "    if label in desired_labels:\n",
        "        value = item.find('span', class_='value-text').get_text(strip=True)\n",
        "        car_info[label] = value\n",
        "\n",
        "print(car_info)"
      ],
      "metadata": {
        "colab": {
          "base_uri": "https://localhost:8080/"
        },
        "id": "enp461zb_1nl",
        "outputId": "99d2d9ef-d676-435c-8c31-71a0d8b22b5a"
      },
      "execution_count": 212,
      "outputs": [
        {
          "output_type": "stream",
          "name": "stdout",
          "text": [
            "{'Fuel Type': 'Petrol', 'Kms Driven': '26,000 Kms', 'Transmission': 'Manual', 'Year of Manufacture': '2016'}\n"
          ]
        }
      ]
    },
    {
      "cell_type": "markdown",
      "source": [
        "3. Land Rover Range Rover"
      ],
      "metadata": {
        "id": "tmR0owkoAxa3"
      }
    },
    {
      "cell_type": "code",
      "source": [
        "website = 'https://www.cardekho.com/used-car-details/used-Land-rover-range-rover-44-i-petrol-hse-cars-New-Delhi_fbe44285-e908-4f6b-8916-51370d37ef53.htm'\n",
        "headers = {\"User-Agent\" : \"Mozilla/5.0 (Windows NT 10.0; Win64; x64) AppleWebKit/537.36 (KHTML, like Gecko) Chrome/137.0.0.0 Safari/537.36 Edg/137.0.0.0\"}"
      ],
      "metadata": {
        "id": "W1v7bTIOA0lr"
      },
      "execution_count": 213,
      "outputs": []
    },
    {
      "cell_type": "code",
      "source": [
        "response = requests.get(website,headers=headers)"
      ],
      "metadata": {
        "id": "ZwRjveVgBA5f"
      },
      "execution_count": 214,
      "outputs": []
    },
    {
      "cell_type": "code",
      "source": [
        "if response.status_code == 200:\n",
        "    #print(response.status_code)\n",
        "    html_content = response.text\n",
        "else:\n",
        "    print(\"fetching error\",response.status_code)"
      ],
      "metadata": {
        "id": "HJwh0u7YBOsK"
      },
      "execution_count": 215,
      "outputs": []
    },
    {
      "cell_type": "code",
      "source": [
        "soup = BeautifulSoup(html_content, 'html.parser')"
      ],
      "metadata": {
        "id": "4J0FonB5BRcC"
      },
      "execution_count": 216,
      "outputs": []
    },
    {
      "cell_type": "code",
      "source": [
        "Car_Name = soup.find('div',class_='vehicleName').text\n",
        "print(Car_Name)"
      ],
      "metadata": {
        "colab": {
          "base_uri": "https://localhost:8080/"
        },
        "id": "pbJ7hPnmBZyH",
        "outputId": "6ac63aa7-0c46-456f-9d73-270dae942488"
      },
      "execution_count": 217,
      "outputs": [
        {
          "output_type": "stream",
          "name": "stdout",
          "text": [
            "2023 Land Rover Range Rover 4.4 I Petrol HSE\n"
          ]
        }
      ]
    },
    {
      "cell_type": "code",
      "source": [
        "Car_Price = soup.find('div',class_='vehiclePrice').text\n",
        "print(Car_Price)"
      ],
      "metadata": {
        "colab": {
          "base_uri": "https://localhost:8080/"
        },
        "id": "mXNKY8EhBcj8",
        "outputId": "5ec002cb-356d-4b5b-be92-c6bfb73544cf"
      },
      "execution_count": 218,
      "outputs": [
        {
          "output_type": "stream",
          "name": "stdout",
          "text": [
            "₹2.79 Crore Make Your Offer\n"
          ]
        }
      ]
    },
    {
      "cell_type": "code",
      "source": [
        "desired_labels = ['Year of Manufacture', 'Fuel Type', 'Transmission', 'Kms Driven']"
      ],
      "metadata": {
        "id": "R-HQNR5lFIxI"
      },
      "execution_count": 219,
      "outputs": []
    },
    {
      "cell_type": "code",
      "source": [
        "items = soup.select('ul.detailsList li')"
      ],
      "metadata": {
        "id": "Fjqk5HZcFPlf"
      },
      "execution_count": 220,
      "outputs": []
    },
    {
      "cell_type": "code",
      "source": [
        "car_info = {}\n",
        "\n",
        "for item in items:\n",
        "    label = item.find('div', class_='label').get_text(strip=True)\n",
        "    if label in desired_labels:\n",
        "        value = item.find('span', class_='value-text').get_text(strip=True)\n",
        "        car_info[label] = value\n",
        "\n",
        "print(car_info)"
      ],
      "metadata": {
        "colab": {
          "base_uri": "https://localhost:8080/"
        },
        "id": "rao8G9e2FSVH",
        "outputId": "da4d223d-2f89-4de5-fcbd-a832e14a6386"
      },
      "execution_count": 221,
      "outputs": [
        {
          "output_type": "stream",
          "name": "stdout",
          "text": [
            "{'Fuel Type': 'Petrol', 'Kms Driven': '14,100 Kms', 'Transmission': 'Automatic', 'Year of Manufacture': '2023'}\n"
          ]
        }
      ]
    },
    {
      "cell_type": "markdown",
      "source": [
        "4. Mercedes Benz GLA"
      ],
      "metadata": {
        "id": "IEvwIJH1GS7k"
      }
    },
    {
      "cell_type": "code",
      "source": [
        "website = 'https://www.cardekho.com/used-car-details/used-Mercedes-benz-gla-200-bsvi-cars-New-Delhi_647958b2-aeee-458c-8298-f9cb9e3bf036.htm'\n",
        "headers = {\"User-Agent\" : \"Mozilla/5.0 (Windows NT 10.0; Win64; x64) AppleWebKit/537.36 (KHTML, like Gecko) Chrome/137.0.0.0 Safari/537.36 Edg/137.0.0.0\"}"
      ],
      "metadata": {
        "id": "NEWvx98PG7b4"
      },
      "execution_count": 222,
      "outputs": []
    },
    {
      "cell_type": "code",
      "source": [
        "response = requests.get(website,headers=headers)"
      ],
      "metadata": {
        "id": "XXMbkhMcH0EK"
      },
      "execution_count": 223,
      "outputs": []
    },
    {
      "cell_type": "code",
      "source": [
        "if response.status_code == 200:\n",
        "    #print(response.status_code)\n",
        "    html_content = response.text\n",
        "else:\n",
        "    print(\"fetching error\",response.status_code)"
      ],
      "metadata": {
        "id": "yEYk1l8tIASA"
      },
      "execution_count": 224,
      "outputs": []
    },
    {
      "cell_type": "code",
      "source": [
        "soup = BeautifulSoup(html_content, 'html.parser')"
      ],
      "metadata": {
        "id": "tx_WNFPjIF-E"
      },
      "execution_count": 225,
      "outputs": []
    },
    {
      "cell_type": "code",
      "source": [
        "Car_Name = soup.find('div',class_='vehicleName').text\n",
        "print(Car_Name)"
      ],
      "metadata": {
        "colab": {
          "base_uri": "https://localhost:8080/"
        },
        "id": "c1ma2nV9IJSp",
        "outputId": "80fabf55-a730-4b21-a574-531119570809"
      },
      "execution_count": 226,
      "outputs": [
        {
          "output_type": "stream",
          "name": "stdout",
          "text": [
            "2022 Mercedes-Benz GLA 200 BSVI\n"
          ]
        }
      ]
    },
    {
      "cell_type": "code",
      "source": [
        "Car_Price = soup.find('div',class_='vehiclePrice').text\n",
        "print(Car_Price)"
      ],
      "metadata": {
        "colab": {
          "base_uri": "https://localhost:8080/"
        },
        "id": "-6cglT0_ILmA",
        "outputId": "bda80def-cac9-49de-9b90-4896a4f9926e"
      },
      "execution_count": 227,
      "outputs": [
        {
          "output_type": "stream",
          "name": "stdout",
          "text": [
            "₹43 Lakh Make Your Offer\n"
          ]
        }
      ]
    },
    {
      "cell_type": "code",
      "source": [
        "desired_labels = ['Year of Manufacture', 'Fuel Type', 'Transmission', 'Kms Driven']"
      ],
      "metadata": {
        "id": "Qo4cNmP9IYA8"
      },
      "execution_count": 228,
      "outputs": []
    },
    {
      "cell_type": "code",
      "source": [
        "car_info = {}\n",
        "\n",
        "for item in items:\n",
        "    label = item.find('div', class_='label').get_text(strip=True)\n",
        "    if label in desired_labels:\n",
        "        value = item.find('span', class_='value-text').get_text(strip=True)\n",
        "        car_info[label] = value\n",
        "\n",
        "print(car_info)"
      ],
      "metadata": {
        "colab": {
          "base_uri": "https://localhost:8080/"
        },
        "id": "Z04_A4J1IcBd",
        "outputId": "bc6d9fe7-ef55-44f8-9e79-0b0134fe3239"
      },
      "execution_count": 229,
      "outputs": [
        {
          "output_type": "stream",
          "name": "stdout",
          "text": [
            "{'Fuel Type': 'Petrol', 'Kms Driven': '14,100 Kms', 'Transmission': 'Automatic', 'Year of Manufacture': '2023'}\n"
          ]
        }
      ]
    },
    {
      "cell_type": "code",
      "source": [
        "import pandas as pd\n",
        "\n",
        "Cars_data = {\n",
        "    'car name': ['Hyundai i10 Sportz', 'Maruti Swift LXI', 'Land Rover Range Rover', 'Mercedes-Benz GLA 200'],\n",
        "    'car make': ['Hyundai', 'Maruti', 'Range Rover', 'Mercedes'],\n",
        "    'model': ['i10 Sportz', 'Swift LXI', 'Land Rover 4.4', 'Benz GLA 200'],\n",
        "    'manufacture year': ['2017', '2016', '2023', '2023'],\n",
        "    'kms driven': ['67000', '26000', '14100', '14100'],\n",
        "    'fuel type': ['Petrol', 'Petrol', 'Petrol', 'Petrol'],\n",
        "    'transmission': ['Manual', 'Manual', 'Automatic', 'Automatic'],\n",
        "    'location': ['Jaipur', 'Mumbai', 'New Delhi', 'New Delhi'],\n",
        "    'price in rupees': ['450000', '475000', '27900000', '4300000'],\n",
        "    'location': ['Jaipur', 'Mumbai', 'New Delhi', 'New Delhi']\n",
        "}\n",
        "\n",
        "df = pd.DataFrame(Cars_data)\n",
        "\n",
        "df.index = ['1', '2', '3', '4']\n",
        "\n",
        "print(df)"
      ],
      "metadata": {
        "colab": {
          "base_uri": "https://localhost:8080/"
        },
        "id": "XOU0dPLRIf2s",
        "outputId": "6eac9339-a38d-4f77-bf65-ab05e5d62b50"
      },
      "execution_count": 230,
      "outputs": [
        {
          "output_type": "stream",
          "name": "stdout",
          "text": [
            "                 car name     car make           model manufacture year  \\\n",
            "1      Hyundai i10 Sportz      Hyundai      i10 Sportz             2017   \n",
            "2        Maruti Swift LXI       Maruti       Swift LXI             2016   \n",
            "3  Land Rover Range Rover  Range Rover  Land Rover 4.4             2023   \n",
            "4   Mercedes-Benz GLA 200     Mercedes    Benz GLA 200             2023   \n",
            "\n",
            "  kms driven fuel type transmission   location price in rupees  \n",
            "1      67000    Petrol       Manual     Jaipur          450000  \n",
            "2      26000    Petrol       Manual     Mumbai          475000  \n",
            "3      14100    Petrol    Automatic  New Delhi        27900000  \n",
            "4      14100    Petrol    Automatic  New Delhi         4300000  \n"
          ]
        }
      ]
    },
    {
      "cell_type": "code",
      "source": [
        "df.to_csv(r'C:\\Users\\singh\\Desktop\\cars_data.csv', index=True)"
      ],
      "metadata": {
        "id": "ug4PkR0gc_9v"
      },
      "execution_count": 231,
      "outputs": []
    },
    {
      "cell_type": "code",
      "source": [
        "import pandas as pd\n",
        "import numpy as np\n",
        "import matplotlib.pyplot as plt\n",
        "import seaborn as sns\n",
        "import warnings\n",
        "warnings.filterwarnings('ignore')"
      ],
      "metadata": {
        "id": "Pr2iDue_gVXa"
      },
      "execution_count": 232,
      "outputs": []
    },
    {
      "cell_type": "code",
      "source": [
        "df = pd.read_csv(r'C:\\Users\\singh\\Desktop\\cars_data.csv')"
      ],
      "metadata": {
        "id": "5vzhclMegbjF"
      },
      "execution_count": 233,
      "outputs": []
    },
    {
      "cell_type": "code",
      "source": [
        "df"
      ],
      "metadata": {
        "colab": {
          "base_uri": "https://localhost:8080/",
          "height": 175
        },
        "id": "vpcoKXH-gr_V",
        "outputId": "68b11a84-0a54-49a6-9cbe-ef4cbe45dc08"
      },
      "execution_count": 234,
      "outputs": [
        {
          "output_type": "execute_result",
          "data": {
            "text/plain": [
              "   Unnamed: 0                car name     car make           model  \\\n",
              "0           1      Hyundai i10 Sportz      Hyundai      i10 Sportz   \n",
              "1           2        Maruti Swift LXI       Maruti       Swift LXI   \n",
              "2           3  Land Rover Range Rover  Range Rover  Land Rover 4.4   \n",
              "3           4   Mercedes-Benz GLA 200     Mercedes    Benz GLA 200   \n",
              "\n",
              "   manufacture year  kms driven fuel type transmission   location  \\\n",
              "0              2017       67000    Petrol       Manual     Jaipur   \n",
              "1              2016       26000    Petrol       Manual     Mumbai   \n",
              "2              2023       14100    Petrol    Automatic  New Delhi   \n",
              "3              2023       14100    Petrol    Automatic  New Delhi   \n",
              "\n",
              "   price in rupees  \n",
              "0           450000  \n",
              "1           475000  \n",
              "2         27900000  \n",
              "3          4300000  "
            ],
            "text/html": [
              "\n",
              "  <div id=\"df-9910d31c-fce3-408d-a3ac-35ec96da5066\" class=\"colab-df-container\">\n",
              "    <div>\n",
              "<style scoped>\n",
              "    .dataframe tbody tr th:only-of-type {\n",
              "        vertical-align: middle;\n",
              "    }\n",
              "\n",
              "    .dataframe tbody tr th {\n",
              "        vertical-align: top;\n",
              "    }\n",
              "\n",
              "    .dataframe thead th {\n",
              "        text-align: right;\n",
              "    }\n",
              "</style>\n",
              "<table border=\"1\" class=\"dataframe\">\n",
              "  <thead>\n",
              "    <tr style=\"text-align: right;\">\n",
              "      <th></th>\n",
              "      <th>Unnamed: 0</th>\n",
              "      <th>car name</th>\n",
              "      <th>car make</th>\n",
              "      <th>model</th>\n",
              "      <th>manufacture year</th>\n",
              "      <th>kms driven</th>\n",
              "      <th>fuel type</th>\n",
              "      <th>transmission</th>\n",
              "      <th>location</th>\n",
              "      <th>price in rupees</th>\n",
              "    </tr>\n",
              "  </thead>\n",
              "  <tbody>\n",
              "    <tr>\n",
              "      <th>0</th>\n",
              "      <td>1</td>\n",
              "      <td>Hyundai i10 Sportz</td>\n",
              "      <td>Hyundai</td>\n",
              "      <td>i10 Sportz</td>\n",
              "      <td>2017</td>\n",
              "      <td>67000</td>\n",
              "      <td>Petrol</td>\n",
              "      <td>Manual</td>\n",
              "      <td>Jaipur</td>\n",
              "      <td>450000</td>\n",
              "    </tr>\n",
              "    <tr>\n",
              "      <th>1</th>\n",
              "      <td>2</td>\n",
              "      <td>Maruti Swift LXI</td>\n",
              "      <td>Maruti</td>\n",
              "      <td>Swift LXI</td>\n",
              "      <td>2016</td>\n",
              "      <td>26000</td>\n",
              "      <td>Petrol</td>\n",
              "      <td>Manual</td>\n",
              "      <td>Mumbai</td>\n",
              "      <td>475000</td>\n",
              "    </tr>\n",
              "    <tr>\n",
              "      <th>2</th>\n",
              "      <td>3</td>\n",
              "      <td>Land Rover Range Rover</td>\n",
              "      <td>Range Rover</td>\n",
              "      <td>Land Rover 4.4</td>\n",
              "      <td>2023</td>\n",
              "      <td>14100</td>\n",
              "      <td>Petrol</td>\n",
              "      <td>Automatic</td>\n",
              "      <td>New Delhi</td>\n",
              "      <td>27900000</td>\n",
              "    </tr>\n",
              "    <tr>\n",
              "      <th>3</th>\n",
              "      <td>4</td>\n",
              "      <td>Mercedes-Benz GLA 200</td>\n",
              "      <td>Mercedes</td>\n",
              "      <td>Benz GLA 200</td>\n",
              "      <td>2023</td>\n",
              "      <td>14100</td>\n",
              "      <td>Petrol</td>\n",
              "      <td>Automatic</td>\n",
              "      <td>New Delhi</td>\n",
              "      <td>4300000</td>\n",
              "    </tr>\n",
              "  </tbody>\n",
              "</table>\n",
              "</div>\n",
              "    <div class=\"colab-df-buttons\">\n",
              "\n",
              "  <div class=\"colab-df-container\">\n",
              "    <button class=\"colab-df-convert\" onclick=\"convertToInteractive('df-9910d31c-fce3-408d-a3ac-35ec96da5066')\"\n",
              "            title=\"Convert this dataframe to an interactive table.\"\n",
              "            style=\"display:none;\">\n",
              "\n",
              "  <svg xmlns=\"http://www.w3.org/2000/svg\" height=\"24px\" viewBox=\"0 -960 960 960\">\n",
              "    <path d=\"M120-120v-720h720v720H120Zm60-500h600v-160H180v160Zm220 220h160v-160H400v160Zm0 220h160v-160H400v160ZM180-400h160v-160H180v160Zm440 0h160v-160H620v160ZM180-180h160v-160H180v160Zm440 0h160v-160H620v160Z\"/>\n",
              "  </svg>\n",
              "    </button>\n",
              "\n",
              "  <style>\n",
              "    .colab-df-container {\n",
              "      display:flex;\n",
              "      gap: 12px;\n",
              "    }\n",
              "\n",
              "    .colab-df-convert {\n",
              "      background-color: #E8F0FE;\n",
              "      border: none;\n",
              "      border-radius: 50%;\n",
              "      cursor: pointer;\n",
              "      display: none;\n",
              "      fill: #1967D2;\n",
              "      height: 32px;\n",
              "      padding: 0 0 0 0;\n",
              "      width: 32px;\n",
              "    }\n",
              "\n",
              "    .colab-df-convert:hover {\n",
              "      background-color: #E2EBFA;\n",
              "      box-shadow: 0px 1px 2px rgba(60, 64, 67, 0.3), 0px 1px 3px 1px rgba(60, 64, 67, 0.15);\n",
              "      fill: #174EA6;\n",
              "    }\n",
              "\n",
              "    .colab-df-buttons div {\n",
              "      margin-bottom: 4px;\n",
              "    }\n",
              "\n",
              "    [theme=dark] .colab-df-convert {\n",
              "      background-color: #3B4455;\n",
              "      fill: #D2E3FC;\n",
              "    }\n",
              "\n",
              "    [theme=dark] .colab-df-convert:hover {\n",
              "      background-color: #434B5C;\n",
              "      box-shadow: 0px 1px 3px 1px rgba(0, 0, 0, 0.15);\n",
              "      filter: drop-shadow(0px 1px 2px rgba(0, 0, 0, 0.3));\n",
              "      fill: #FFFFFF;\n",
              "    }\n",
              "  </style>\n",
              "\n",
              "    <script>\n",
              "      const buttonEl =\n",
              "        document.querySelector('#df-9910d31c-fce3-408d-a3ac-35ec96da5066 button.colab-df-convert');\n",
              "      buttonEl.style.display =\n",
              "        google.colab.kernel.accessAllowed ? 'block' : 'none';\n",
              "\n",
              "      async function convertToInteractive(key) {\n",
              "        const element = document.querySelector('#df-9910d31c-fce3-408d-a3ac-35ec96da5066');\n",
              "        const dataTable =\n",
              "          await google.colab.kernel.invokeFunction('convertToInteractive',\n",
              "                                                    [key], {});\n",
              "        if (!dataTable) return;\n",
              "\n",
              "        const docLinkHtml = 'Like what you see? Visit the ' +\n",
              "          '<a target=\"_blank\" href=https://colab.research.google.com/notebooks/data_table.ipynb>data table notebook</a>'\n",
              "          + ' to learn more about interactive tables.';\n",
              "        element.innerHTML = '';\n",
              "        dataTable['output_type'] = 'display_data';\n",
              "        await google.colab.output.renderOutput(dataTable, element);\n",
              "        const docLink = document.createElement('div');\n",
              "        docLink.innerHTML = docLinkHtml;\n",
              "        element.appendChild(docLink);\n",
              "      }\n",
              "    </script>\n",
              "  </div>\n",
              "\n",
              "\n",
              "    <div id=\"df-5649ac2d-b48f-4313-b991-75e6abfaca67\">\n",
              "      <button class=\"colab-df-quickchart\" onclick=\"quickchart('df-5649ac2d-b48f-4313-b991-75e6abfaca67')\"\n",
              "                title=\"Suggest charts\"\n",
              "                style=\"display:none;\">\n",
              "\n",
              "<svg xmlns=\"http://www.w3.org/2000/svg\" height=\"24px\"viewBox=\"0 0 24 24\"\n",
              "     width=\"24px\">\n",
              "    <g>\n",
              "        <path d=\"M19 3H5c-1.1 0-2 .9-2 2v14c0 1.1.9 2 2 2h14c1.1 0 2-.9 2-2V5c0-1.1-.9-2-2-2zM9 17H7v-7h2v7zm4 0h-2V7h2v10zm4 0h-2v-4h2v4z\"/>\n",
              "    </g>\n",
              "</svg>\n",
              "      </button>\n",
              "\n",
              "<style>\n",
              "  .colab-df-quickchart {\n",
              "      --bg-color: #E8F0FE;\n",
              "      --fill-color: #1967D2;\n",
              "      --hover-bg-color: #E2EBFA;\n",
              "      --hover-fill-color: #174EA6;\n",
              "      --disabled-fill-color: #AAA;\n",
              "      --disabled-bg-color: #DDD;\n",
              "  }\n",
              "\n",
              "  [theme=dark] .colab-df-quickchart {\n",
              "      --bg-color: #3B4455;\n",
              "      --fill-color: #D2E3FC;\n",
              "      --hover-bg-color: #434B5C;\n",
              "      --hover-fill-color: #FFFFFF;\n",
              "      --disabled-bg-color: #3B4455;\n",
              "      --disabled-fill-color: #666;\n",
              "  }\n",
              "\n",
              "  .colab-df-quickchart {\n",
              "    background-color: var(--bg-color);\n",
              "    border: none;\n",
              "    border-radius: 50%;\n",
              "    cursor: pointer;\n",
              "    display: none;\n",
              "    fill: var(--fill-color);\n",
              "    height: 32px;\n",
              "    padding: 0;\n",
              "    width: 32px;\n",
              "  }\n",
              "\n",
              "  .colab-df-quickchart:hover {\n",
              "    background-color: var(--hover-bg-color);\n",
              "    box-shadow: 0 1px 2px rgba(60, 64, 67, 0.3), 0 1px 3px 1px rgba(60, 64, 67, 0.15);\n",
              "    fill: var(--button-hover-fill-color);\n",
              "  }\n",
              "\n",
              "  .colab-df-quickchart-complete:disabled,\n",
              "  .colab-df-quickchart-complete:disabled:hover {\n",
              "    background-color: var(--disabled-bg-color);\n",
              "    fill: var(--disabled-fill-color);\n",
              "    box-shadow: none;\n",
              "  }\n",
              "\n",
              "  .colab-df-spinner {\n",
              "    border: 2px solid var(--fill-color);\n",
              "    border-color: transparent;\n",
              "    border-bottom-color: var(--fill-color);\n",
              "    animation:\n",
              "      spin 1s steps(1) infinite;\n",
              "  }\n",
              "\n",
              "  @keyframes spin {\n",
              "    0% {\n",
              "      border-color: transparent;\n",
              "      border-bottom-color: var(--fill-color);\n",
              "      border-left-color: var(--fill-color);\n",
              "    }\n",
              "    20% {\n",
              "      border-color: transparent;\n",
              "      border-left-color: var(--fill-color);\n",
              "      border-top-color: var(--fill-color);\n",
              "    }\n",
              "    30% {\n",
              "      border-color: transparent;\n",
              "      border-left-color: var(--fill-color);\n",
              "      border-top-color: var(--fill-color);\n",
              "      border-right-color: var(--fill-color);\n",
              "    }\n",
              "    40% {\n",
              "      border-color: transparent;\n",
              "      border-right-color: var(--fill-color);\n",
              "      border-top-color: var(--fill-color);\n",
              "    }\n",
              "    60% {\n",
              "      border-color: transparent;\n",
              "      border-right-color: var(--fill-color);\n",
              "    }\n",
              "    80% {\n",
              "      border-color: transparent;\n",
              "      border-right-color: var(--fill-color);\n",
              "      border-bottom-color: var(--fill-color);\n",
              "    }\n",
              "    90% {\n",
              "      border-color: transparent;\n",
              "      border-bottom-color: var(--fill-color);\n",
              "    }\n",
              "  }\n",
              "</style>\n",
              "\n",
              "      <script>\n",
              "        async function quickchart(key) {\n",
              "          const quickchartButtonEl =\n",
              "            document.querySelector('#' + key + ' button');\n",
              "          quickchartButtonEl.disabled = true;  // To prevent multiple clicks.\n",
              "          quickchartButtonEl.classList.add('colab-df-spinner');\n",
              "          try {\n",
              "            const charts = await google.colab.kernel.invokeFunction(\n",
              "                'suggestCharts', [key], {});\n",
              "          } catch (error) {\n",
              "            console.error('Error during call to suggestCharts:', error);\n",
              "          }\n",
              "          quickchartButtonEl.classList.remove('colab-df-spinner');\n",
              "          quickchartButtonEl.classList.add('colab-df-quickchart-complete');\n",
              "        }\n",
              "        (() => {\n",
              "          let quickchartButtonEl =\n",
              "            document.querySelector('#df-5649ac2d-b48f-4313-b991-75e6abfaca67 button');\n",
              "          quickchartButtonEl.style.display =\n",
              "            google.colab.kernel.accessAllowed ? 'block' : 'none';\n",
              "        })();\n",
              "      </script>\n",
              "    </div>\n",
              "\n",
              "  <div id=\"id_c89e6591-f91b-435c-ac35-6250e8b665e3\">\n",
              "    <style>\n",
              "      .colab-df-generate {\n",
              "        background-color: #E8F0FE;\n",
              "        border: none;\n",
              "        border-radius: 50%;\n",
              "        cursor: pointer;\n",
              "        display: none;\n",
              "        fill: #1967D2;\n",
              "        height: 32px;\n",
              "        padding: 0 0 0 0;\n",
              "        width: 32px;\n",
              "      }\n",
              "\n",
              "      .colab-df-generate:hover {\n",
              "        background-color: #E2EBFA;\n",
              "        box-shadow: 0px 1px 2px rgba(60, 64, 67, 0.3), 0px 1px 3px 1px rgba(60, 64, 67, 0.15);\n",
              "        fill: #174EA6;\n",
              "      }\n",
              "\n",
              "      [theme=dark] .colab-df-generate {\n",
              "        background-color: #3B4455;\n",
              "        fill: #D2E3FC;\n",
              "      }\n",
              "\n",
              "      [theme=dark] .colab-df-generate:hover {\n",
              "        background-color: #434B5C;\n",
              "        box-shadow: 0px 1px 3px 1px rgba(0, 0, 0, 0.15);\n",
              "        filter: drop-shadow(0px 1px 2px rgba(0, 0, 0, 0.3));\n",
              "        fill: #FFFFFF;\n",
              "      }\n",
              "    </style>\n",
              "    <button class=\"colab-df-generate\" onclick=\"generateWithVariable('df')\"\n",
              "            title=\"Generate code using this dataframe.\"\n",
              "            style=\"display:none;\">\n",
              "\n",
              "  <svg xmlns=\"http://www.w3.org/2000/svg\" height=\"24px\"viewBox=\"0 0 24 24\"\n",
              "       width=\"24px\">\n",
              "    <path d=\"M7,19H8.4L18.45,9,17,7.55,7,17.6ZM5,21V16.75L18.45,3.32a2,2,0,0,1,2.83,0l1.4,1.43a1.91,1.91,0,0,1,.58,1.4,1.91,1.91,0,0,1-.58,1.4L9.25,21ZM18.45,9,17,7.55Zm-12,3A5.31,5.31,0,0,0,4.9,8.1,5.31,5.31,0,0,0,1,6.5,5.31,5.31,0,0,0,4.9,4.9,5.31,5.31,0,0,0,6.5,1,5.31,5.31,0,0,0,8.1,4.9,5.31,5.31,0,0,0,12,6.5,5.46,5.46,0,0,0,6.5,12Z\"/>\n",
              "  </svg>\n",
              "    </button>\n",
              "    <script>\n",
              "      (() => {\n",
              "      const buttonEl =\n",
              "        document.querySelector('#id_c89e6591-f91b-435c-ac35-6250e8b665e3 button.colab-df-generate');\n",
              "      buttonEl.style.display =\n",
              "        google.colab.kernel.accessAllowed ? 'block' : 'none';\n",
              "\n",
              "      buttonEl.onclick = () => {\n",
              "        google.colab.notebook.generateWithVariable('df');\n",
              "      }\n",
              "      })();\n",
              "    </script>\n",
              "  </div>\n",
              "\n",
              "    </div>\n",
              "  </div>\n"
            ],
            "application/vnd.google.colaboratory.intrinsic+json": {
              "type": "dataframe",
              "variable_name": "df",
              "summary": "{\n  \"name\": \"df\",\n  \"rows\": 4,\n  \"fields\": [\n    {\n      \"column\": \"Unnamed: 0\",\n      \"properties\": {\n        \"dtype\": \"number\",\n        \"std\": 1,\n        \"min\": 1,\n        \"max\": 4,\n        \"num_unique_values\": 4,\n        \"samples\": [\n          2,\n          4,\n          1\n        ],\n        \"semantic_type\": \"\",\n        \"description\": \"\"\n      }\n    },\n    {\n      \"column\": \"car name\",\n      \"properties\": {\n        \"dtype\": \"string\",\n        \"num_unique_values\": 4,\n        \"samples\": [\n          \"Maruti Swift LXI\",\n          \"Mercedes-Benz GLA 200\",\n          \"Hyundai i10 Sportz\"\n        ],\n        \"semantic_type\": \"\",\n        \"description\": \"\"\n      }\n    },\n    {\n      \"column\": \"car make\",\n      \"properties\": {\n        \"dtype\": \"string\",\n        \"num_unique_values\": 4,\n        \"samples\": [\n          \"Maruti\",\n          \"Mercedes\",\n          \"Hyundai\"\n        ],\n        \"semantic_type\": \"\",\n        \"description\": \"\"\n      }\n    },\n    {\n      \"column\": \"model\",\n      \"properties\": {\n        \"dtype\": \"string\",\n        \"num_unique_values\": 4,\n        \"samples\": [\n          \"Swift LXI\",\n          \"Benz GLA 200\",\n          \"i10 Sportz\"\n        ],\n        \"semantic_type\": \"\",\n        \"description\": \"\"\n      }\n    },\n    {\n      \"column\": \"manufacture year\",\n      \"properties\": {\n        \"dtype\": \"number\",\n        \"std\": 3,\n        \"min\": 2016,\n        \"max\": 2023,\n        \"num_unique_values\": 3,\n        \"samples\": [\n          2017,\n          2016,\n          2023\n        ],\n        \"semantic_type\": \"\",\n        \"description\": \"\"\n      }\n    },\n    {\n      \"column\": \"kms driven\",\n      \"properties\": {\n        \"dtype\": \"number\",\n        \"std\": 25101,\n        \"min\": 14100,\n        \"max\": 67000,\n        \"num_unique_values\": 3,\n        \"samples\": [\n          67000,\n          26000,\n          14100\n        ],\n        \"semantic_type\": \"\",\n        \"description\": \"\"\n      }\n    },\n    {\n      \"column\": \"fuel type\",\n      \"properties\": {\n        \"dtype\": \"category\",\n        \"num_unique_values\": 1,\n        \"samples\": [\n          \"Petrol\"\n        ],\n        \"semantic_type\": \"\",\n        \"description\": \"\"\n      }\n    },\n    {\n      \"column\": \"transmission\",\n      \"properties\": {\n        \"dtype\": \"string\",\n        \"num_unique_values\": 2,\n        \"samples\": [\n          \"Automatic\"\n        ],\n        \"semantic_type\": \"\",\n        \"description\": \"\"\n      }\n    },\n    {\n      \"column\": \"location\",\n      \"properties\": {\n        \"dtype\": \"string\",\n        \"num_unique_values\": 3,\n        \"samples\": [\n          \"Jaipur\"\n        ],\n        \"semantic_type\": \"\",\n        \"description\": \"\"\n      }\n    },\n    {\n      \"column\": \"price in rupees\",\n      \"properties\": {\n        \"dtype\": \"number\",\n        \"std\": 13203682,\n        \"min\": 450000,\n        \"max\": 27900000,\n        \"num_unique_values\": 4,\n        \"samples\": [\n          475000\n        ],\n        \"semantic_type\": \"\",\n        \"description\": \"\"\n      }\n    }\n  ]\n}"
            }
          },
          "metadata": {},
          "execution_count": 234
        }
      ]
    },
    {
      "cell_type": "code",
      "source": [
        "df.shape"
      ],
      "metadata": {
        "colab": {
          "base_uri": "https://localhost:8080/"
        },
        "id": "OZnM7aWnj8lK",
        "outputId": "af026af8-c7a1-4284-b7de-585e42e7e95d"
      },
      "execution_count": 235,
      "outputs": [
        {
          "output_type": "execute_result",
          "data": {
            "text/plain": [
              "(4, 10)"
            ]
          },
          "metadata": {},
          "execution_count": 235
        }
      ]
    },
    {
      "cell_type": "code",
      "source": [
        "df.columns"
      ],
      "metadata": {
        "colab": {
          "base_uri": "https://localhost:8080/"
        },
        "id": "8lQw5pu-kUFL",
        "outputId": "b2dcf110-ab64-41ef-c9e0-1b4f6bf2ac84"
      },
      "execution_count": 236,
      "outputs": [
        {
          "output_type": "execute_result",
          "data": {
            "text/plain": [
              "Index(['Unnamed: 0', 'car name', 'car make', 'model', 'manufacture year',\n",
              "       'kms driven', 'fuel type', 'transmission', 'location',\n",
              "       'price in rupees'],\n",
              "      dtype='object')"
            ]
          },
          "metadata": {},
          "execution_count": 236
        }
      ]
    },
    {
      "cell_type": "code",
      "source": [
        "df.describe()"
      ],
      "metadata": {
        "colab": {
          "base_uri": "https://localhost:8080/",
          "height": 300
        },
        "id": "8KMBGEkFkdLV",
        "outputId": "af1df8d4-3d25-484b-8b72-5f0b38d82bdf"
      },
      "execution_count": 237,
      "outputs": [
        {
          "output_type": "execute_result",
          "data": {
            "text/plain": [
              "       Unnamed: 0  manufacture year    kms driven  price in rupees\n",
              "count    4.000000          4.000000      4.000000     4.000000e+00\n",
              "mean     2.500000       2019.750000  30300.000000     8.281250e+06\n",
              "std      1.290994          3.774917  25101.527178     1.320368e+07\n",
              "min      1.000000       2016.000000  14100.000000     4.500000e+05\n",
              "25%      1.750000       2016.750000  14100.000000     4.687500e+05\n",
              "50%      2.500000       2020.000000  20050.000000     2.387500e+06\n",
              "75%      3.250000       2023.000000  36250.000000     1.020000e+07\n",
              "max      4.000000       2023.000000  67000.000000     2.790000e+07"
            ],
            "text/html": [
              "\n",
              "  <div id=\"df-aa0d99f9-b128-490b-a02c-425c0069b552\" class=\"colab-df-container\">\n",
              "    <div>\n",
              "<style scoped>\n",
              "    .dataframe tbody tr th:only-of-type {\n",
              "        vertical-align: middle;\n",
              "    }\n",
              "\n",
              "    .dataframe tbody tr th {\n",
              "        vertical-align: top;\n",
              "    }\n",
              "\n",
              "    .dataframe thead th {\n",
              "        text-align: right;\n",
              "    }\n",
              "</style>\n",
              "<table border=\"1\" class=\"dataframe\">\n",
              "  <thead>\n",
              "    <tr style=\"text-align: right;\">\n",
              "      <th></th>\n",
              "      <th>Unnamed: 0</th>\n",
              "      <th>manufacture year</th>\n",
              "      <th>kms driven</th>\n",
              "      <th>price in rupees</th>\n",
              "    </tr>\n",
              "  </thead>\n",
              "  <tbody>\n",
              "    <tr>\n",
              "      <th>count</th>\n",
              "      <td>4.000000</td>\n",
              "      <td>4.000000</td>\n",
              "      <td>4.000000</td>\n",
              "      <td>4.000000e+00</td>\n",
              "    </tr>\n",
              "    <tr>\n",
              "      <th>mean</th>\n",
              "      <td>2.500000</td>\n",
              "      <td>2019.750000</td>\n",
              "      <td>30300.000000</td>\n",
              "      <td>8.281250e+06</td>\n",
              "    </tr>\n",
              "    <tr>\n",
              "      <th>std</th>\n",
              "      <td>1.290994</td>\n",
              "      <td>3.774917</td>\n",
              "      <td>25101.527178</td>\n",
              "      <td>1.320368e+07</td>\n",
              "    </tr>\n",
              "    <tr>\n",
              "      <th>min</th>\n",
              "      <td>1.000000</td>\n",
              "      <td>2016.000000</td>\n",
              "      <td>14100.000000</td>\n",
              "      <td>4.500000e+05</td>\n",
              "    </tr>\n",
              "    <tr>\n",
              "      <th>25%</th>\n",
              "      <td>1.750000</td>\n",
              "      <td>2016.750000</td>\n",
              "      <td>14100.000000</td>\n",
              "      <td>4.687500e+05</td>\n",
              "    </tr>\n",
              "    <tr>\n",
              "      <th>50%</th>\n",
              "      <td>2.500000</td>\n",
              "      <td>2020.000000</td>\n",
              "      <td>20050.000000</td>\n",
              "      <td>2.387500e+06</td>\n",
              "    </tr>\n",
              "    <tr>\n",
              "      <th>75%</th>\n",
              "      <td>3.250000</td>\n",
              "      <td>2023.000000</td>\n",
              "      <td>36250.000000</td>\n",
              "      <td>1.020000e+07</td>\n",
              "    </tr>\n",
              "    <tr>\n",
              "      <th>max</th>\n",
              "      <td>4.000000</td>\n",
              "      <td>2023.000000</td>\n",
              "      <td>67000.000000</td>\n",
              "      <td>2.790000e+07</td>\n",
              "    </tr>\n",
              "  </tbody>\n",
              "</table>\n",
              "</div>\n",
              "    <div class=\"colab-df-buttons\">\n",
              "\n",
              "  <div class=\"colab-df-container\">\n",
              "    <button class=\"colab-df-convert\" onclick=\"convertToInteractive('df-aa0d99f9-b128-490b-a02c-425c0069b552')\"\n",
              "            title=\"Convert this dataframe to an interactive table.\"\n",
              "            style=\"display:none;\">\n",
              "\n",
              "  <svg xmlns=\"http://www.w3.org/2000/svg\" height=\"24px\" viewBox=\"0 -960 960 960\">\n",
              "    <path d=\"M120-120v-720h720v720H120Zm60-500h600v-160H180v160Zm220 220h160v-160H400v160Zm0 220h160v-160H400v160ZM180-400h160v-160H180v160Zm440 0h160v-160H620v160ZM180-180h160v-160H180v160Zm440 0h160v-160H620v160Z\"/>\n",
              "  </svg>\n",
              "    </button>\n",
              "\n",
              "  <style>\n",
              "    .colab-df-container {\n",
              "      display:flex;\n",
              "      gap: 12px;\n",
              "    }\n",
              "\n",
              "    .colab-df-convert {\n",
              "      background-color: #E8F0FE;\n",
              "      border: none;\n",
              "      border-radius: 50%;\n",
              "      cursor: pointer;\n",
              "      display: none;\n",
              "      fill: #1967D2;\n",
              "      height: 32px;\n",
              "      padding: 0 0 0 0;\n",
              "      width: 32px;\n",
              "    }\n",
              "\n",
              "    .colab-df-convert:hover {\n",
              "      background-color: #E2EBFA;\n",
              "      box-shadow: 0px 1px 2px rgba(60, 64, 67, 0.3), 0px 1px 3px 1px rgba(60, 64, 67, 0.15);\n",
              "      fill: #174EA6;\n",
              "    }\n",
              "\n",
              "    .colab-df-buttons div {\n",
              "      margin-bottom: 4px;\n",
              "    }\n",
              "\n",
              "    [theme=dark] .colab-df-convert {\n",
              "      background-color: #3B4455;\n",
              "      fill: #D2E3FC;\n",
              "    }\n",
              "\n",
              "    [theme=dark] .colab-df-convert:hover {\n",
              "      background-color: #434B5C;\n",
              "      box-shadow: 0px 1px 3px 1px rgba(0, 0, 0, 0.15);\n",
              "      filter: drop-shadow(0px 1px 2px rgba(0, 0, 0, 0.3));\n",
              "      fill: #FFFFFF;\n",
              "    }\n",
              "  </style>\n",
              "\n",
              "    <script>\n",
              "      const buttonEl =\n",
              "        document.querySelector('#df-aa0d99f9-b128-490b-a02c-425c0069b552 button.colab-df-convert');\n",
              "      buttonEl.style.display =\n",
              "        google.colab.kernel.accessAllowed ? 'block' : 'none';\n",
              "\n",
              "      async function convertToInteractive(key) {\n",
              "        const element = document.querySelector('#df-aa0d99f9-b128-490b-a02c-425c0069b552');\n",
              "        const dataTable =\n",
              "          await google.colab.kernel.invokeFunction('convertToInteractive',\n",
              "                                                    [key], {});\n",
              "        if (!dataTable) return;\n",
              "\n",
              "        const docLinkHtml = 'Like what you see? Visit the ' +\n",
              "          '<a target=\"_blank\" href=https://colab.research.google.com/notebooks/data_table.ipynb>data table notebook</a>'\n",
              "          + ' to learn more about interactive tables.';\n",
              "        element.innerHTML = '';\n",
              "        dataTable['output_type'] = 'display_data';\n",
              "        await google.colab.output.renderOutput(dataTable, element);\n",
              "        const docLink = document.createElement('div');\n",
              "        docLink.innerHTML = docLinkHtml;\n",
              "        element.appendChild(docLink);\n",
              "      }\n",
              "    </script>\n",
              "  </div>\n",
              "\n",
              "\n",
              "    <div id=\"df-9131f2b8-3dca-441d-9980-ad59317790a7\">\n",
              "      <button class=\"colab-df-quickchart\" onclick=\"quickchart('df-9131f2b8-3dca-441d-9980-ad59317790a7')\"\n",
              "                title=\"Suggest charts\"\n",
              "                style=\"display:none;\">\n",
              "\n",
              "<svg xmlns=\"http://www.w3.org/2000/svg\" height=\"24px\"viewBox=\"0 0 24 24\"\n",
              "     width=\"24px\">\n",
              "    <g>\n",
              "        <path d=\"M19 3H5c-1.1 0-2 .9-2 2v14c0 1.1.9 2 2 2h14c1.1 0 2-.9 2-2V5c0-1.1-.9-2-2-2zM9 17H7v-7h2v7zm4 0h-2V7h2v10zm4 0h-2v-4h2v4z\"/>\n",
              "    </g>\n",
              "</svg>\n",
              "      </button>\n",
              "\n",
              "<style>\n",
              "  .colab-df-quickchart {\n",
              "      --bg-color: #E8F0FE;\n",
              "      --fill-color: #1967D2;\n",
              "      --hover-bg-color: #E2EBFA;\n",
              "      --hover-fill-color: #174EA6;\n",
              "      --disabled-fill-color: #AAA;\n",
              "      --disabled-bg-color: #DDD;\n",
              "  }\n",
              "\n",
              "  [theme=dark] .colab-df-quickchart {\n",
              "      --bg-color: #3B4455;\n",
              "      --fill-color: #D2E3FC;\n",
              "      --hover-bg-color: #434B5C;\n",
              "      --hover-fill-color: #FFFFFF;\n",
              "      --disabled-bg-color: #3B4455;\n",
              "      --disabled-fill-color: #666;\n",
              "  }\n",
              "\n",
              "  .colab-df-quickchart {\n",
              "    background-color: var(--bg-color);\n",
              "    border: none;\n",
              "    border-radius: 50%;\n",
              "    cursor: pointer;\n",
              "    display: none;\n",
              "    fill: var(--fill-color);\n",
              "    height: 32px;\n",
              "    padding: 0;\n",
              "    width: 32px;\n",
              "  }\n",
              "\n",
              "  .colab-df-quickchart:hover {\n",
              "    background-color: var(--hover-bg-color);\n",
              "    box-shadow: 0 1px 2px rgba(60, 64, 67, 0.3), 0 1px 3px 1px rgba(60, 64, 67, 0.15);\n",
              "    fill: var(--button-hover-fill-color);\n",
              "  }\n",
              "\n",
              "  .colab-df-quickchart-complete:disabled,\n",
              "  .colab-df-quickchart-complete:disabled:hover {\n",
              "    background-color: var(--disabled-bg-color);\n",
              "    fill: var(--disabled-fill-color);\n",
              "    box-shadow: none;\n",
              "  }\n",
              "\n",
              "  .colab-df-spinner {\n",
              "    border: 2px solid var(--fill-color);\n",
              "    border-color: transparent;\n",
              "    border-bottom-color: var(--fill-color);\n",
              "    animation:\n",
              "      spin 1s steps(1) infinite;\n",
              "  }\n",
              "\n",
              "  @keyframes spin {\n",
              "    0% {\n",
              "      border-color: transparent;\n",
              "      border-bottom-color: var(--fill-color);\n",
              "      border-left-color: var(--fill-color);\n",
              "    }\n",
              "    20% {\n",
              "      border-color: transparent;\n",
              "      border-left-color: var(--fill-color);\n",
              "      border-top-color: var(--fill-color);\n",
              "    }\n",
              "    30% {\n",
              "      border-color: transparent;\n",
              "      border-left-color: var(--fill-color);\n",
              "      border-top-color: var(--fill-color);\n",
              "      border-right-color: var(--fill-color);\n",
              "    }\n",
              "    40% {\n",
              "      border-color: transparent;\n",
              "      border-right-color: var(--fill-color);\n",
              "      border-top-color: var(--fill-color);\n",
              "    }\n",
              "    60% {\n",
              "      border-color: transparent;\n",
              "      border-right-color: var(--fill-color);\n",
              "    }\n",
              "    80% {\n",
              "      border-color: transparent;\n",
              "      border-right-color: var(--fill-color);\n",
              "      border-bottom-color: var(--fill-color);\n",
              "    }\n",
              "    90% {\n",
              "      border-color: transparent;\n",
              "      border-bottom-color: var(--fill-color);\n",
              "    }\n",
              "  }\n",
              "</style>\n",
              "\n",
              "      <script>\n",
              "        async function quickchart(key) {\n",
              "          const quickchartButtonEl =\n",
              "            document.querySelector('#' + key + ' button');\n",
              "          quickchartButtonEl.disabled = true;  // To prevent multiple clicks.\n",
              "          quickchartButtonEl.classList.add('colab-df-spinner');\n",
              "          try {\n",
              "            const charts = await google.colab.kernel.invokeFunction(\n",
              "                'suggestCharts', [key], {});\n",
              "          } catch (error) {\n",
              "            console.error('Error during call to suggestCharts:', error);\n",
              "          }\n",
              "          quickchartButtonEl.classList.remove('colab-df-spinner');\n",
              "          quickchartButtonEl.classList.add('colab-df-quickchart-complete');\n",
              "        }\n",
              "        (() => {\n",
              "          let quickchartButtonEl =\n",
              "            document.querySelector('#df-9131f2b8-3dca-441d-9980-ad59317790a7 button');\n",
              "          quickchartButtonEl.style.display =\n",
              "            google.colab.kernel.accessAllowed ? 'block' : 'none';\n",
              "        })();\n",
              "      </script>\n",
              "    </div>\n",
              "\n",
              "    </div>\n",
              "  </div>\n"
            ],
            "application/vnd.google.colaboratory.intrinsic+json": {
              "type": "dataframe",
              "summary": "{\n  \"name\": \"df\",\n  \"rows\": 8,\n  \"fields\": [\n    {\n      \"column\": \"Unnamed: 0\",\n      \"properties\": {\n        \"dtype\": \"number\",\n        \"std\": 1.1542536055724035,\n        \"min\": 1.0,\n        \"max\": 4.0,\n        \"num_unique_values\": 6,\n        \"samples\": [\n          4.0,\n          2.5,\n          3.25\n        ],\n        \"semantic_type\": \"\",\n        \"description\": \"\"\n      }\n    },\n    {\n      \"column\": \"manufacture year\",\n      \"properties\": {\n        \"dtype\": \"number\",\n        \"std\": 933.166418629703,\n        \"min\": 3.774917217635375,\n        \"max\": 2023.0,\n        \"num_unique_values\": 7,\n        \"samples\": [\n          4.0,\n          2019.75,\n          2020.0\n        ],\n        \"semantic_type\": \"\",\n        \"description\": \"\"\n      }\n    },\n    {\n      \"column\": \"kms driven\",\n      \"properties\": {\n        \"dtype\": \"number\",\n        \"std\": 19998.659010640644,\n        \"min\": 4.0,\n        \"max\": 67000.0,\n        \"num_unique_values\": 7,\n        \"samples\": [\n          4.0,\n          30300.0,\n          36250.0\n        ],\n        \"semantic_type\": \"\",\n        \"description\": \"\"\n      }\n    },\n    {\n      \"column\": \"price in rupees\",\n      \"properties\": {\n        \"dtype\": \"number\",\n        \"std\": 9539961.453647487,\n        \"min\": 4.0,\n        \"max\": 27900000.0,\n        \"num_unique_values\": 8,\n        \"samples\": [\n          8281250.0,\n          2387500.0,\n          4.0\n        ],\n        \"semantic_type\": \"\",\n        \"description\": \"\"\n      }\n    }\n  ]\n}"
            }
          },
          "metadata": {},
          "execution_count": 237
        }
      ]
    },
    {
      "cell_type": "code",
      "source": [
        "df.info()"
      ],
      "metadata": {
        "colab": {
          "base_uri": "https://localhost:8080/"
        },
        "id": "xYE8jD3zkshW",
        "outputId": "79caceec-56a1-4269-a26b-ffa1baab8a7c"
      },
      "execution_count": 238,
      "outputs": [
        {
          "output_type": "stream",
          "name": "stdout",
          "text": [
            "<class 'pandas.core.frame.DataFrame'>\n",
            "RangeIndex: 4 entries, 0 to 3\n",
            "Data columns (total 10 columns):\n",
            " #   Column            Non-Null Count  Dtype \n",
            "---  ------            --------------  ----- \n",
            " 0   Unnamed: 0        4 non-null      int64 \n",
            " 1   car name          4 non-null      object\n",
            " 2   car make          4 non-null      object\n",
            " 3   model             4 non-null      object\n",
            " 4   manufacture year  4 non-null      int64 \n",
            " 5   kms driven        4 non-null      int64 \n",
            " 6   fuel type         4 non-null      object\n",
            " 7   transmission      4 non-null      object\n",
            " 8   location          4 non-null      object\n",
            " 9   price in rupees   4 non-null      int64 \n",
            "dtypes: int64(4), object(6)\n",
            "memory usage: 452.0+ bytes\n"
          ]
        }
      ]
    },
    {
      "cell_type": "code",
      "source": [
        "sns.barplot(x='car name', y='price in rupees', data=df)\n",
        "plt.title(\"Car Name vs Price\")\n",
        "plt.xlabel(\"Car Name\")\n",
        "plt.ylabel(\"Price (in Rupees)\")\n",
        "plt.show()"
      ],
      "metadata": {
        "colab": {
          "base_uri": "https://localhost:8080/",
          "height": 472
        },
        "id": "xv7a3d1HngP4",
        "outputId": "52dcb816-fc2c-4f54-99f5-6d15e80d0176"
      },
      "execution_count": 239,
      "outputs": [
        {
          "output_type": "display_data",
          "data": {
            "text/plain": [
              "<Figure size 640x480 with 1 Axes>"
            ],
            "image/png": "[encoded data removed]"
          },
          "metadata": {}
        }
      ]
    },
    {
      "cell_type": "code",
      "source": [],
      "metadata": {
        "id": "M9GYehGSnu62"
      },
      "execution_count": 239,
      "outputs": []
    }
  ]
}