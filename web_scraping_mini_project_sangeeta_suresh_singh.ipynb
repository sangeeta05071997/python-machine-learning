{
  "nbformat": 4,
  "nbformat_minor": 0,
  "metadata": {
    "colab": {
      "provenance": [],
      "authorship_tag": "ABX9TyPjRTV5qtzse1YDxGWFy/fe",
      "include_colab_link": true
    },
    "kernelspec": {
      "name": "python3",
      "display_name": "Python 3"
    },
    "language_info": {
      "name": "python"
    }
  },
  "cells": [
    {
      "cell_type": "markdown",
      "metadata": {
        "id": "view-in-github",
        "colab_type": "text"
      },
      "source": [
        "<a href=\"https://colab.research.google.com/github/sangeeta05071997/python-machine-learning/blob/main/web_scraping_mini_project_sangeeta_suresh_singh.ipynb\" target=\"_parent\"><img src=\"https://colab.research.google.com/assets/colab-badge.svg\" alt=\"Open In Colab\"/></a>"
      ]
    },
    {
      "cell_type": "code",
      "execution_count": 195,
      "metadata": {
        "id": "5Aigofgd3xrd"
      },
      "outputs": [],
      "source": [
        "from bs4 import BeautifulSoup\n",
        "import pandas as pd\n",
        "import requests"
      ]
    },
    {
      "cell_type": "markdown",
      "source": [
        "CAR 1: HYUNDAI"
      ],
      "metadata": {
        "id": "CsLTW0-_L_bL"
      }
    },
    {
      "cell_type": "code",
      "source": [
        "website = 'https://www.cardekho.com/used-car-details/used-Hyundai-i10-sportz-11l-cars-Jaipur_8fae9c08-2471-445d-b139-1f472e368fbb.htm'\n",
        "headers = {\"User-Agent\" : \"Mozilla/5.0 (Windows NT 10.0; Win64; x64) AppleWebKit/537.36 (KHTML, like Gecko) Chrome/137.0.0.0 Safari/537.36 Edg/137.0.0.0\"}"
      ],
      "metadata": {
        "id": "P0-HU6qw3253"
      },
      "execution_count": 196,
      "outputs": []
    },
    {
      "cell_type": "code",
      "source": [
        "response = requests.get(website,headers=headers)"
      ],
      "metadata": {
        "id": "2oki4zgx4Kse"
      },
      "execution_count": 197,
      "outputs": []
    },
    {
      "cell_type": "code",
      "source": [
        "response.status_code"
      ],
      "metadata": {
        "colab": {
          "base_uri": "https://localhost:8080/"
        },
        "id": "uvzFEMQu4M4b",
        "outputId": "23c3b59e-e412-4eb6-c3a9-05d2ca5bfd5c"
      },
      "execution_count": 198,
      "outputs": [
        {
          "output_type": "execute_result",
          "data": {
            "text/plain": [
              "200"
            ]
          },
          "metadata": {},
          "execution_count": 198
        }
      ]
    },
    {
      "cell_type": "code",
      "source": [
        "soup = BeautifulSoup(response.content, 'html.parser')"
      ],
      "metadata": {
        "id": "EAiBV6-W4PRe"
      },
      "execution_count": 199,
      "outputs": []
    },
    {
      "cell_type": "code",
      "source": [
        "BeautifulSoup(requests.get(\"https://www.cardekho.com/used-car-details/used-Hyundai-i10-sportz-11l-cars-Jaipur_8fae9c08-2471-445d-b139-1f472e368fbb.htm\", headers={\"User-Agent\":\"Mozilla/5.0\"}).text, 'html.parser').get_text(separator='\\n', strip=True)"
      ],
      "metadata": {
        "colab": {
          "base_uri": "https://localhost:8080/",
          "height": 127
        },
        "id": "FvXqtIz_7Yn5",
        "outputId": "8a4d107d-0701-4880-f67c-6a78886e96a9"
      },
      "execution_count": 200,
      "outputs": [
        {
          "output_type": "execute_result",
          "data": {
            "text/plain": [
              "'Used Hyundai i10 Sportz 1.1L Car in Jaipur, 2017 Model - Find Best Deals! | CarDekho.com\\nAll\\nNew\\nUsed\\nAd\\nEnglish\\nLogin / Register\\nNEW CARS\\nExplore New Cars\\nAll Electric Cars\\nTata Harrier EV\\nMahindra BE 6\\nMG Windsor EV\\nMahindra XEV 9e\\nMG Comet EV\\nTata Punch EV\\nAll Electric Cars\\nPopular Cars\\nDefender\\nMahindra XUV700\\nMahindra Scorpio N\\nMahindra Bolero\\nMahindra Thar\\nMahindra Scorpio\\nAll Popular Cars\\nUpcoming Cars\\nNew Launches\\nCar Insurance\\nAd\\nPopular Brands\\nMaruti Cars\\nTata Cars\\nKia Cars\\nToyota Cars\\nHyundai Cars\\nMahindra Cars\\nCompare Cars\\nNew Car Offers & Discounts\\nFind Car Dealers\\nFind EV Charging Stations\\nFind Fuel Stations\\nCheck Fuel Prices\\nUsed cars\\nBuy Used Cars\\nUsed Cars In Your City\\nAhmedabad\\nBangalore\\nChennai\\nDelhi NCR\\nHyderabad\\nJaipur\\nKolkata\\nMumbai\\nPune\\nMore Cities\\nSell My Car\\nUsed Car Valuation\\nDealership Near Me\\nNews & Reviews\\nNews & Top stories\\nCar Expert Reviews\\nUser Reviews\\nCar Collection\\nTips & Advice\\nVideos\\nVideo Reviews\\nVisual Stories\\nSelect City\\nPrevious\\nNext\\n12 PHOTOS\\nOverview\\nEMI CALC\\nOverview\\nEMI CALC\\nCar Overview\\nRegistration Year\\nSept 2017\\nInsurance\\nComprehensive\\nFuel Type\\nPetrol\\nSeats\\n5 Seats\\nKms Driven\\n67,000 Kms\\nRTO\\nJaipur\\nOwnership\\nSecond Owner\\nEngine Displacement\\n1086 cc\\nTransmission\\nManual\\nYear of Manufacture\\n2017\\nRecommended Used Cars\\nShowing 0 more cars you might like\\nEMI Calculator\\nAvail upto 100% of the car value in finance at attractive interest rates\\nLoan Amount\\n₹\\n4,05 Lakh\\n₹\\n0\\n₹\\n4,50,000\\nDuration\\nin years\\n1\\n2\\n3\\n4\\n5\\nRate of\\ninterest @\\n14.5\\n%*\\nfor\\n4\\nYears\\nYour Monthly EMI\\n₹11,170\\nView Breakup\\n*Interest rate and loan amount offered may vary subject to customer risk profile\\nInterested in Loan\\n550+ customers availed the facility\\n2017\\nHyundai i10\\nSportz 1.1L\\n67,000\\nkms\\n•\\nPetrol\\n•\\nManual\\n•\\n2nd Owner\\n₹4.50 Lakh\\nMake Your Offer\\nEMI starts @ ₹11,170 /mo\\n•\\nNew Car Price\\n₹5.86 Lakh\\nMansarovar, Jaipur\\nCompare\\nView Seller Details\\nReport Ad\\nShare\\nShare this car\\nFacebook\\nX\\nWhatsApp\\nHome\\nUsed Cars\\nUsed Cars in Jaipur\\nUsed Hyundai I10 Cars in Jaipur\\nUsed Hyundai I10 Sportz 1.1L Cars in Jaipur\\nIndia’s #1\\nLargest Auto portal\\nCar Sold\\nEvery 4 minute\\nOffers\\nStay updated pay less\\nCompare\\nDecode the right car\\nAbout CarDekho\\nAbout\\nCareers With Us\\nTerms & Conditions\\nPrivacy Policy\\nCorporate Policies\\nInvestors\\nFAQs\\nConnect With Us\\nFeedback\\nContact Us\\nAdvertise with Us\\nBecome Partner Dealer\\nOTHERS\\nTrucksDekho\\nTyreDekho\\nTractorsDekho\\nGirnar Vision Fund\\nEmergency Response\\nCar Sales Trends\\nEXPERIENCE CARDEKHO APP\\nCarDekho Group Ventures\\n©\\n2025\\nGirnar Software Pvt. Ltd.\\nConnect:'"
            ],
            "application/vnd.google.colaboratory.intrinsic+json": {
              "type": "string"
            }
          },
          "metadata": {},
          "execution_count": 200
        }
      ]
    },
    {
      "cell_type": "code",
      "source": [
        "# Extract fields\n",
        "car_name = soup.find('div', class_='vehicleName').text.strip()\n",
        "price = soup.find('div', class_='vehiclePrice').text.strip().split('Make')[0].strip()\n",
        "\n",
        "# Extract additional specs\n",
        "labels = ['Year of Manufacture', 'Fuel Type', 'Transmission', 'Kms Driven']\n",
        "info = {label: None for label in labels}\n",
        "\n",
        "for item in soup.select('ul.detailsList li'):\n",
        "    label = item.find('div', class_='label').get_text(strip=True)\n",
        "    if label in labels:\n",
        "        value = item.find('span', class_='value-text').get_text(strip=True)\n",
        "        info[label] = value\n",
        "\n",
        "# Create row-column format and transpose it\n",
        "data1 = {\n",
        "    'Car Name': car_name,\n",
        "    'Price': price,\n",
        "    'Year of Manufacture': info['Year of Manufacture'],\n",
        "    'Fuel Type': info['Fuel Type'],\n",
        "    'Transmission': info['Transmission'],\n",
        "    'Kms Driven': info['Kms Driven'],\n",
        "    'Location': 'Jaipur'\n",
        "}\n",
        "\n",
        "df = pd.DataFrame([data1]).T\n",
        "df.columns = ['Details']  # optional: name the column\n",
        "print(df)"
      ],
      "metadata": {
        "colab": {
          "base_uri": "https://localhost:8080/"
        },
        "id": "zCxOkxRR8x9p",
        "outputId": "58b77f41-cf01-4047-9f29-14b621e08e0c"
      },
      "execution_count": 201,
      "outputs": [
        {
          "output_type": "stream",
          "name": "stdout",
          "text": [
            "                                          Details\n",
            "Car Name             2017 Hyundai i10 Sportz 1.1L\n",
            "Price                                  ₹4.50 Lakh\n",
            "Year of Manufacture                          2017\n",
            "Fuel Type                                  Petrol\n",
            "Transmission                               Manual\n",
            "Kms Driven                             67,000 Kms\n",
            "Location                                   Jaipur\n"
          ]
        }
      ]
    },
    {
      "cell_type": "markdown",
      "source": [
        "CAR 2: MARUTI"
      ],
      "metadata": {
        "id": "tXCEZVLTMFsf"
      }
    },
    {
      "cell_type": "code",
      "source": [
        "website = 'https://www.cardekho.com/used-car-details/used-Maruti-swift-lxi-bsiv-cars-Mumbai_da8d64d1-1fa5-40e5-9cb6-4c78a756f140.htm'\n",
        "headers = {\"User-Agent\" : \"Mozilla/5.0 (Windows NT 10.0; Win64; x64) AppleWebKit/537.36 (KHTML, like Gecko) Chrome/137.0.0.0 Safari/537.36 Edg/137.0.0.0\"}"
      ],
      "metadata": {
        "id": "Hlj3dJnq9a1m"
      },
      "execution_count": 202,
      "outputs": []
    },
    {
      "cell_type": "code",
      "source": [
        "response = requests.get(website,headers=headers)"
      ],
      "metadata": {
        "id": "63nQuG_5-hPQ"
      },
      "execution_count": 203,
      "outputs": []
    },
    {
      "cell_type": "code",
      "source": [
        "response.status_code"
      ],
      "metadata": {
        "colab": {
          "base_uri": "https://localhost:8080/"
        },
        "id": "lFX5woY0-nw0",
        "outputId": "129a0550-7609-4750-8435-3ec81eecd674"
      },
      "execution_count": 204,
      "outputs": [
        {
          "output_type": "execute_result",
          "data": {
            "text/plain": [
              "200"
            ]
          },
          "metadata": {},
          "execution_count": 204
        }
      ]
    },
    {
      "cell_type": "code",
      "source": [
        "soup = BeautifulSoup(response.content, 'html.parser')"
      ],
      "metadata": {
        "id": "neJ0VRDu-qR7"
      },
      "execution_count": 205,
      "outputs": []
    },
    {
      "cell_type": "code",
      "source": [
        "BeautifulSoup(requests.get(\"https://www.cardekho.com/used-car-details/used-Maruti-swift-lxi-bsiv-cars-Mumbai_da8d64d1-1fa5-40e5-9cb6-4c78a756f140.htm\", headers={\"User-Agent\":\"Mozilla/5.0\"}).text, 'html.parser').get_text(separator='\\n', strip=True)"
      ],
      "metadata": {
        "colab": {
          "base_uri": "https://localhost:8080/",
          "height": 127
        },
        "id": "0Txgm4_Y-v3U",
        "outputId": "a250a5df-ebfa-4869-88aa-4e9c249c9299"
      },
      "execution_count": 206,
      "outputs": [
        {
          "output_type": "execute_result",
          "data": {
            "text/plain": [
              "'Used Maruti Swift LXI BSIV Car in Mumbai, 2016 Model - Find Best Deals! | CarDekho.com\\nAll\\nNew\\nUsed\\nAd\\nEnglish\\nLogin / Register\\nNEW CARS\\nExplore New Cars\\nAll Electric Cars\\nTata Harrier EV\\nMahindra BE 6\\nMG Windsor EV\\nMahindra XEV 9e\\nMG Comet EV\\nTata Punch EV\\nAll Electric Cars\\nPopular Cars\\nDefender\\nMahindra XUV700\\nMahindra Scorpio N\\nMahindra Bolero\\nMahindra Thar\\nMahindra Scorpio\\nAll Popular Cars\\nUpcoming Cars\\nNew Launches\\nCar Insurance\\nAd\\nPopular Brands\\nMaruti Cars\\nTata Cars\\nKia Cars\\nToyota Cars\\nHyundai Cars\\nMahindra Cars\\nCompare Cars\\nNew Car Offers & Discounts\\nFind Car Dealers\\nFind EV Charging Stations\\nFind Fuel Stations\\nCheck Fuel Prices\\nUsed cars\\nBuy Used Cars\\nUsed Cars In Your City\\nAhmedabad\\nBangalore\\nChennai\\nDelhi NCR\\nHyderabad\\nJaipur\\nKolkata\\nMumbai\\nPune\\nMore Cities\\nSell My Car\\nUsed Car Valuation\\nDealership Near Me\\nNews & Reviews\\nNews & Top stories\\nCar Expert Reviews\\nUser Reviews\\nCar Collection\\nTips & Advice\\nVideos\\nVideo Reviews\\nVisual Stories\\nSelect City\\nPrevious\\nNext\\n14 PHOTOS\\nOverview\\nEMI CALC\\nOverview\\nEMI CALC\\nCar Overview\\nRegistration Year\\nAug 2016\\nInsurance\\nExpired\\nFuel Type\\nPetrol\\nSeats\\n5 Seats\\nKms Driven\\n26,000 Kms\\nRTO\\npanvel\\nOwnership\\nFirst Owner\\nEngine Displacement\\n1197 cc\\nTransmission\\nManual\\nYear of Manufacture\\n2016\\nRecommended Used Cars\\nShowing 0 more cars you might like\\nEMI Calculator\\nAvail upto 100% of the car value in finance at attractive interest rates\\nLoan Amount\\n₹\\n4,28 Lakh\\n₹\\n0\\n₹\\n4,75,000\\nDuration\\nin years\\n1\\n2\\n3\\n4\\n5\\nRate of\\ninterest @\\n14.5\\n%*\\nfor\\n3\\nYears\\nYour Monthly EMI\\n₹14,715\\nView Breakup\\n*Interest rate and loan amount offered may vary subject to customer risk profile\\nInterested in Loan\\n550+ customers availed the facility\\n2016\\nMaruti Swift\\nLXI BSIV\\n26,000\\nkms\\n•\\nPetrol\\n•\\nManual\\n•\\n1st Owner\\n₹4.75 Lakh\\nMake Your Offer\\nEMI starts @ ₹14,715 /mo\\n•\\nNew Car Price\\n₹6.02 Lakh\\nJogeshwari East, Mumbai\\nCompare\\nView Seller Details\\nReport Ad\\nChat with Seller\\nShare\\nShare this car\\nFacebook\\nX\\nWhatsApp\\nHome\\nUsed Cars\\nUsed Cars in Mumbai\\nUsed Maruti Swift Cars in Mumbai\\nUsed Maruti Swift LXI BSIV Cars in Mumbai\\nIndia’s #1\\nLargest Auto portal\\nCar Sold\\nEvery 4 minute\\nOffers\\nStay updated pay less\\nCompare\\nDecode the right car\\nAbout CarDekho\\nAbout\\nCareers With Us\\nTerms & Conditions\\nPrivacy Policy\\nCorporate Policies\\nInvestors\\nFAQs\\nConnect With Us\\nFeedback\\nContact Us\\nAdvertise with Us\\nBecome Partner Dealer\\nOTHERS\\nTrucksDekho\\nTyreDekho\\nTractorsDekho\\nGirnar Vision Fund\\nEmergency Response\\nCar Sales Trends\\nEXPERIENCE CARDEKHO APP\\nCarDekho Group Ventures\\n©\\n2025\\nGirnar Software Pvt. Ltd.\\nConnect:'"
            ],
            "application/vnd.google.colaboratory.intrinsic+json": {
              "type": "string"
            }
          },
          "metadata": {},
          "execution_count": 206
        }
      ]
    },
    {
      "cell_type": "code",
      "source": [
        "# Extract fields\n",
        "car_name = soup.find('div', class_='vehicleName').text.strip()\n",
        "price = soup.find('div', class_='vehiclePrice').text.strip().split('Make')[0].strip()\n",
        "\n",
        "# Extract additional specs\n",
        "labels = ['Year of Manufacture', 'Fuel Type', 'Transmission', 'Kms Driven']\n",
        "info = {label: None for label in labels}\n",
        "\n",
        "for item in soup.select('ul.detailsList li'):\n",
        "    label = item.find('div', class_='label').get_text(strip=True)\n",
        "    if label in labels:\n",
        "        value = item.find('span', class_='value-text').get_text(strip=True)\n",
        "        info[label] = value\n",
        "\n",
        "# Create row-column format and transpose it\n",
        "data2 = {\n",
        "    'Car Name': car_name,\n",
        "    'Price': price,\n",
        "    'Year of Manufacture': info['Year of Manufacture'],\n",
        "    'Fuel Type': info['Fuel Type'],\n",
        "    'Transmission': info['Transmission'],\n",
        "    'Kms Driven': info['Kms Driven'],\n",
        "    'Location': 'Mumbai'\n",
        "}\n",
        "\n",
        "df = pd.DataFrame([data2]).T\n",
        "df.columns = ['Details']  # optional: name the column\n",
        "print(df)"
      ],
      "metadata": {
        "colab": {
          "base_uri": "https://localhost:8080/"
        },
        "id": "nt0aQJO9-8X7",
        "outputId": "474f1e3e-045a-4936-a483-b1f6a5e254ad"
      },
      "execution_count": 207,
      "outputs": [
        {
          "output_type": "stream",
          "name": "stdout",
          "text": [
            "                                        Details\n",
            "Car Name             2016 Maruti Swift LXI BSIV\n",
            "Price                                ₹4.75 Lakh\n",
            "Year of Manufacture                        2016\n",
            "Fuel Type                                Petrol\n",
            "Transmission                             Manual\n",
            "Kms Driven                           26,000 Kms\n",
            "Location                                 Mumbai\n"
          ]
        }
      ]
    },
    {
      "cell_type": "markdown",
      "source": [
        "CAR 3: RANGE ROVER"
      ],
      "metadata": {
        "id": "i2gQYyWgMLiL"
      }
    },
    {
      "cell_type": "code",
      "source": [
        "website = 'https://www.cardekho.com/used-car-details/used-Land-rover-range-rover-44-i-petrol-hse-cars-New-Delhi_fbe44285-e908-4f6b-8916-51370d37ef53.htm'\n",
        "headers = {\"User-Agent\" : \"Mozilla/5.0 (Windows NT 10.0; Win64; x64) AppleWebKit/537.36 (KHTML, like Gecko) Chrome/137.0.0.0 Safari/537.36 Edg/137.0.0.0\"}"
      ],
      "metadata": {
        "id": "feVfkb5P_Dwe"
      },
      "execution_count": 208,
      "outputs": []
    },
    {
      "cell_type": "code",
      "source": [
        "response = requests.get(website,headers=headers)"
      ],
      "metadata": {
        "id": "3EhZNSUE_RlM"
      },
      "execution_count": 209,
      "outputs": []
    },
    {
      "cell_type": "code",
      "source": [
        "response.status_code"
      ],
      "metadata": {
        "colab": {
          "base_uri": "https://localhost:8080/"
        },
        "id": "P1sPU_cb_U0K",
        "outputId": "142de98f-a04b-48c6-fede-d837e77dadc4"
      },
      "execution_count": 210,
      "outputs": [
        {
          "output_type": "execute_result",
          "data": {
            "text/plain": [
              "200"
            ]
          },
          "metadata": {},
          "execution_count": 210
        }
      ]
    },
    {
      "cell_type": "code",
      "source": [
        "soup = BeautifulSoup(response.content, 'html.parser')"
      ],
      "metadata": {
        "id": "vWBlu0Wa_Yky"
      },
      "execution_count": 211,
      "outputs": []
    },
    {
      "cell_type": "code",
      "source": [
        "BeautifulSoup(requests.get(\"https://www.cardekho.com/used-car-details/used-Land-rover-range-rover-44-i-petrol-hse-cars-New-Delhi_fbe44285-e908-4f6b-8916-51370d37ef53.htm\", headers={\"User-Agent\":\"Mozilla/5.0\"}).text, 'html.parser').get_text(separator='\\n', strip=True)"
      ],
      "metadata": {
        "colab": {
          "base_uri": "https://localhost:8080/",
          "height": 127
        },
        "id": "RP8OI1FN_f-5",
        "outputId": "72c45c79-3089-4918-b446-8662962b7d51"
      },
      "execution_count": 212,
      "outputs": [
        {
          "output_type": "execute_result",
          "data": {
            "text/plain": [
              "'Used Land Rover Range Rover 4.4 I Petrol HSE Car in New Delhi, 2023 Model - Find Best Deals! | CarDekho.com\\nAll\\nNew\\nUsed\\nAd\\nEnglish\\nLogin / Register\\nNEW CARS\\nExplore New Cars\\nAll Electric Cars\\nTata Harrier EV\\nMahindra BE 6\\nMG Windsor EV\\nMahindra XEV 9e\\nMG Comet EV\\nTata Punch EV\\nAll Electric Cars\\nPopular Cars\\nDefender\\nMahindra XUV700\\nMahindra Scorpio N\\nMahindra Bolero\\nMahindra Thar\\nMahindra Scorpio\\nAll Popular Cars\\nUpcoming Cars\\nNew Launches\\nCar Insurance\\nAd\\nPopular Brands\\nMaruti Cars\\nTata Cars\\nKia Cars\\nToyota Cars\\nHyundai Cars\\nMahindra Cars\\nCompare Cars\\nNew Car Offers & Discounts\\nFind Car Dealers\\nFind EV Charging Stations\\nFind Fuel Stations\\nCheck Fuel Prices\\nUsed cars\\nBuy Used Cars\\nUsed Cars In Your City\\nAhmedabad\\nBangalore\\nChennai\\nDelhi NCR\\nHyderabad\\nJaipur\\nKolkata\\nMumbai\\nPune\\nMore Cities\\nSell My Car\\nUsed Car Valuation\\nDealership Near Me\\nNews & Reviews\\nNews & Top stories\\nCar Expert Reviews\\nUser Reviews\\nCar Collection\\nTips & Advice\\nVideos\\nVideo Reviews\\nVisual Stories\\nSelect City\\nPrevious\\nNext\\n9 PHOTOS\\nOverview\\nEMI CALC\\nOverview\\nEMI CALC\\nCar Overview\\nRegistration Year\\nJul 2023\\nInsurance\\nComprehensive\\nFuel Type\\nPetrol\\nSeats\\n7 Seats\\nKms Driven\\n14,100 Kms\\nRTO\\nnarnaul\\nOwnership\\nFirst Owner\\nEngine Displacement\\n4395 cc\\nTransmission\\nAutomatic\\nYear of Manufacture\\n2023\\nRecommended Used Cars\\nShowing 0 more cars you might like\\nEMI Calculator\\nAvail upto 100% of the car value in finance at attractive interest rates\\nLoan Amount\\n₹\\n2,51 Crore\\n₹\\n0\\n₹\\n2,79,00,000\\nDuration\\nin years\\n1\\n2\\n3\\n4\\n5\\nRate of\\ninterest @\\n14.5\\n%*\\nfor\\n4\\nYears\\nYour Monthly EMI\\n₹6,92,483\\nView Breakup\\n*Interest rate and loan amount offered may vary subject to customer risk profile\\nInterested in Loan\\n550+ customers availed the facility\\n2023\\nLand Rover Range Rover\\n4.4 I Petrol HSE\\n14,100\\nkms\\n•\\nPetrol\\n•\\nAutomatic\\n•\\n1st Owner\\n₹2.79 Crore\\nMake Your Offer\\nEMI starts @ ₹6,92,483 /mo\\n•\\nNew Car Price\\n₹3.22 Crore\\nRajender Nagar, New Delhi\\nCompare\\nView Seller Details\\nReport Ad\\nChat with Seller\\nShare\\nShare this car\\nFacebook\\nX\\nWhatsApp\\nHome\\nUsed Cars\\nUsed Cars in New Delhi\\nUsed Land Rover Range Rover Cars in New Delhi\\nUsed Land Rover Range Rover 4.4 I Petrol HSE Cars in New Delhi\\nIndia’s #1\\nLargest Auto portal\\nCar Sold\\nEvery 4 minute\\nOffers\\nStay updated pay less\\nCompare\\nDecode the right car\\nAbout CarDekho\\nAbout\\nCareers With Us\\nTerms & Conditions\\nPrivacy Policy\\nCorporate Policies\\nInvestors\\nFAQs\\nConnect With Us\\nFeedback\\nContact Us\\nAdvertise with Us\\nBecome Partner Dealer\\nOTHERS\\nTrucksDekho\\nTyreDekho\\nTractorsDekho\\nGirnar Vision Fund\\nEmergency Response\\nCar Sales Trends\\nEXPERIENCE CARDEKHO APP\\nCarDekho Group Ventures\\n©\\n2025\\nGirnar Software Pvt. Ltd.\\nConnect:'"
            ],
            "application/vnd.google.colaboratory.intrinsic+json": {
              "type": "string"
            }
          },
          "metadata": {},
          "execution_count": 212
        }
      ]
    },
    {
      "cell_type": "code",
      "source": [
        "# Extract fields\n",
        "car_name = soup.find('div', class_='vehicleName').text.strip()\n",
        "price = soup.find('div', class_='vehiclePrice').text.strip().split('Make')[0].strip()\n",
        "\n",
        "# Extract additional specs\n",
        "labels = ['Year of Manufacture', 'Fuel Type', 'Transmission', 'Kms Driven']\n",
        "info = {label: None for label in labels}\n",
        "\n",
        "for item in soup.select('ul.detailsList li'):\n",
        "    label = item.find('div', class_='label').get_text(strip=True)\n",
        "    if label in labels:\n",
        "        value = item.find('span', class_='value-text').get_text(strip=True)\n",
        "        info[label] = value\n",
        "\n",
        "# Create row-column format and transpose it\n",
        "data3 = {\n",
        "    'Car Name': car_name,\n",
        "    'Price': price,\n",
        "    'Year of Manufacture': info['Year of Manufacture'],\n",
        "    'Fuel Type': info['Fuel Type'],\n",
        "    'Transmission': info['Transmission'],\n",
        "    'Kms Driven': info['Kms Driven'],\n",
        "    'Location': 'New Delhi'\n",
        "}\n",
        "\n",
        "df = pd.DataFrame([data3]).T\n",
        "df.columns = ['Details']  # optional: name the column\n",
        "print(df)"
      ],
      "metadata": {
        "colab": {
          "base_uri": "https://localhost:8080/"
        },
        "id": "Xn5W4fZp_nWr",
        "outputId": "6034a04b-2638-4ae7-b979-31616e320014"
      },
      "execution_count": 213,
      "outputs": [
        {
          "output_type": "stream",
          "name": "stdout",
          "text": [
            "                                                          Details\n",
            "Car Name             2023 Land Rover Range Rover 4.4 I Petrol HSE\n",
            "Price                                                 ₹2.79 Crore\n",
            "Year of Manufacture                                          2023\n",
            "Fuel Type                                                  Petrol\n",
            "Transmission                                            Automatic\n",
            "Kms Driven                                             14,100 Kms\n",
            "Location                                                New Delhi\n"
          ]
        }
      ]
    },
    {
      "cell_type": "markdown",
      "source": [
        "CAR 4: MERCEDES"
      ],
      "metadata": {
        "id": "MYRR54xEMP2G"
      }
    },
    {
      "cell_type": "code",
      "source": [
        "website = 'https://www.cardekho.com/used-car-details/used-Mercedes-benz-gla-200-bsvi-cars-New-Delhi_647958b2-aeee-458c-8298-f9cb9e3bf036.htm'\n",
        "headers = {\"User-Agent\" : \"Mozilla/5.0 (Windows NT 10.0; Win64; x64) AppleWebKit/537.36 (KHTML, like Gecko) Chrome/137.0.0.0 Safari/537.36 Edg/137.0.0.0\"}"
      ],
      "metadata": {
        "id": "hQ7EWm7i_rDK"
      },
      "execution_count": 214,
      "outputs": []
    },
    {
      "cell_type": "code",
      "source": [
        "response = requests.get(website,headers=headers)"
      ],
      "metadata": {
        "id": "HGHL8OQZAB10"
      },
      "execution_count": 215,
      "outputs": []
    },
    {
      "cell_type": "code",
      "source": [
        "response.status_code"
      ],
      "metadata": {
        "colab": {
          "base_uri": "https://localhost:8080/"
        },
        "id": "9g-MJuoJAE6q",
        "outputId": "106eab7b-0046-49c7-ab23-dc89a191d1ea"
      },
      "execution_count": 216,
      "outputs": [
        {
          "output_type": "execute_result",
          "data": {
            "text/plain": [
              "200"
            ]
          },
          "metadata": {},
          "execution_count": 216
        }
      ]
    },
    {
      "cell_type": "code",
      "source": [
        "soup = BeautifulSoup(response.content, 'html.parser')"
      ],
      "metadata": {
        "id": "ieaQPQQFAHzN"
      },
      "execution_count": 217,
      "outputs": []
    },
    {
      "cell_type": "code",
      "source": [
        "BeautifulSoup(requests.get(\"https://www.cardekho.com/used-car-details/used-Mercedes-benz-gla-200-bsvi-cars-New-Delhi_647958b2-aeee-458c-8298-f9cb9e3bf036.htm\", headers={\"User-Agent\":\"Mozilla/5.0\"}).text, 'html.parser').get_text(separator='\\n', strip=True)"
      ],
      "metadata": {
        "colab": {
          "base_uri": "https://localhost:8080/",
          "height": 127
        },
        "id": "zJz4BZuvALEd",
        "outputId": "88a24f58-4775-4a73-9fbe-aa46a7cd3ca7"
      },
      "execution_count": 218,
      "outputs": [
        {
          "output_type": "execute_result",
          "data": {
            "text/plain": [
              "'Used Mercedes-Benz GLA 200 BSVI Car in New Delhi, 2023 Model - Find Best Deals! | CarDekho.com\\nAll\\nNew\\nUsed\\nAd\\nEnglish\\nLogin / Register\\nNEW CARS\\nExplore New Cars\\nAll Electric Cars\\nTata Harrier EV\\nMahindra BE 6\\nMG Windsor EV\\nMahindra XEV 9e\\nMG Comet EV\\nTata Punch EV\\nAll Electric Cars\\nPopular Cars\\nDefender\\nMahindra XUV700\\nMahindra Scorpio N\\nMahindra Bolero\\nMahindra Thar\\nMahindra Scorpio\\nAll Popular Cars\\nUpcoming Cars\\nNew Launches\\nCar Insurance\\nAd\\nPopular Brands\\nMaruti Cars\\nTata Cars\\nKia Cars\\nToyota Cars\\nHyundai Cars\\nMahindra Cars\\nCompare Cars\\nNew Car Offers & Discounts\\nFind Car Dealers\\nFind EV Charging Stations\\nFind Fuel Stations\\nCheck Fuel Prices\\nUsed cars\\nBuy Used Cars\\nUsed Cars In Your City\\nAhmedabad\\nBangalore\\nChennai\\nDelhi NCR\\nHyderabad\\nJaipur\\nKolkata\\nMumbai\\nPune\\nMore Cities\\nSell My Car\\nUsed Car Valuation\\nDealership Near Me\\nNews & Reviews\\nNews & Top stories\\nCar Expert Reviews\\nUser Reviews\\nCar Collection\\nTips & Advice\\nVideos\\nVideo Reviews\\nVisual Stories\\nSelect City\\nPrevious\\nNext\\n10 PHOTOS\\nOverview\\nEMI CALC\\nOverview\\nEMI CALC\\nCar Overview\\nRegistration Year\\nJan 2023\\nInsurance\\nComprehensive\\nFuel Type\\nPetrol\\nSeats\\n5 Seats\\nKms Driven\\n16,000 Kms\\nRTO\\nNew Delhi\\nOwnership\\nFirst Owner\\nEngine Displacement\\n1332 cc\\nTransmission\\nAutomatic\\nYear of Manufacture\\n2022\\nRecommended Used Cars\\nShowing 0 more cars you might like\\nEMI Calculator\\nAvail upto 100% of the car value in finance at attractive interest rates\\nLoan Amount\\n₹\\n38,70 Lakh\\n₹\\n0\\n₹\\n43,00,000\\nDuration\\nin years\\n1\\n2\\n3\\n4\\n5\\nRate of\\ninterest @\\n14.5\\n%*\\nfor\\n4\\nYears\\nYour Monthly EMI\\n₹1,06,727\\nView Breakup\\n*Interest rate and loan amount offered may vary subject to customer risk profile\\nInterested in Loan\\n550+ customers availed the facility\\n2022\\nMercedes-Benz GLA\\n200 BSVI\\n16,000\\nkms\\n•\\nPetrol\\n•\\nAutomatic\\n•\\n1st Owner\\n₹43 Lakh\\nMake Your Offer\\nEMI starts @ ₹1,06,727 /mo\\n•\\nNew Car Price\\n₹55.75 Lakh\\nAshok Vihar, New Delhi\\nCompare\\nView Seller Details\\nReport Ad\\nShare\\nShare this car\\nFacebook\\nX\\nWhatsApp\\nHome\\nUsed Cars\\nUsed Cars in New Delhi\\nUsed Mercedes-Benz GLA Cars in New Delhi\\nUsed Mercedes-Benz GLA 200 BSVI Cars in New Delhi\\nIndia’s #1\\nLargest Auto portal\\nCar Sold\\nEvery 4 minute\\nOffers\\nStay updated pay less\\nCompare\\nDecode the right car\\nAbout CarDekho\\nAbout\\nCareers With Us\\nTerms & Conditions\\nPrivacy Policy\\nCorporate Policies\\nInvestors\\nFAQs\\nConnect With Us\\nFeedback\\nContact Us\\nAdvertise with Us\\nBecome Partner Dealer\\nOTHERS\\nTrucksDekho\\nTyreDekho\\nTractorsDekho\\nGirnar Vision Fund\\nEmergency Response\\nCar Sales Trends\\nEXPERIENCE CARDEKHO APP\\nCarDekho Group Ventures\\n©\\n2025\\nGirnar Software Pvt. Ltd.\\nConnect:'"
            ],
            "application/vnd.google.colaboratory.intrinsic+json": {
              "type": "string"
            }
          },
          "metadata": {},
          "execution_count": 218
        }
      ]
    },
    {
      "cell_type": "code",
      "source": [
        "# Extract fields\n",
        "car_name = soup.find('div', class_='vehicleName').text.strip()\n",
        "price = soup.find('div', class_='vehiclePrice').text.strip().split('Make')[0].strip()\n",
        "\n",
        "# Extract additional specs\n",
        "labels = ['Year of Manufacture', 'Fuel Type', 'Transmission', 'Kms Driven']\n",
        "info = {label: None for label in labels}\n",
        "\n",
        "for item in soup.select('ul.detailsList li'):\n",
        "    label = item.find('div', class_='label').get_text(strip=True)\n",
        "    if label in labels:\n",
        "        value = item.find('span', class_='value-text').get_text(strip=True)\n",
        "        info[label] = value\n",
        "\n",
        "# Create row-column format and transpose it\n",
        "data4 = {\n",
        "    'Car Name': car_name,\n",
        "    'Price': price,\n",
        "    'Year of Manufacture': info['Year of Manufacture'],\n",
        "    'Fuel Type': info['Fuel Type'],\n",
        "    'Transmission': info['Transmission'],\n",
        "    'Kms Driven': info['Kms Driven'],\n",
        "    'Location': 'New Delhi'\n",
        "}\n",
        "\n",
        "df = pd.DataFrame([data4]).T\n",
        "df.columns = ['Details']  # optional: name the column\n",
        "print(df)"
      ],
      "metadata": {
        "colab": {
          "base_uri": "https://localhost:8080/"
        },
        "id": "jPSLA5DFAYH2",
        "outputId": "1dbef1b2-e45b-4506-ab29-c4bee72f0078"
      },
      "execution_count": 219,
      "outputs": [
        {
          "output_type": "stream",
          "name": "stdout",
          "text": [
            "                                             Details\n",
            "Car Name             2022 Mercedes-Benz GLA 200 BSVI\n",
            "Price                                       ₹43 Lakh\n",
            "Year of Manufacture                             2022\n",
            "Fuel Type                                     Petrol\n",
            "Transmission                               Automatic\n",
            "Kms Driven                                16,000 Kms\n",
            "Location                                   New Delhi\n"
          ]
        }
      ]
    },
    {
      "cell_type": "markdown",
      "source": [
        "COMBINING ALL THE ABOVE SCRAPED DATA"
      ],
      "metadata": {
        "id": "LAFn6GL8MUTm"
      }
    },
    {
      "cell_type": "code",
      "source": [
        "df1 = pd.DataFrame([data1]).T\n",
        "df2 = pd.DataFrame([data2]).T\n",
        "df3 = pd.DataFrame([data3]).T\n",
        "df4 = pd.DataFrame([data4]).T"
      ],
      "metadata": {
        "id": "Zmy5POrkAd1t"
      },
      "execution_count": 220,
      "outputs": []
    },
    {
      "cell_type": "code",
      "source": [
        "# Combine them as columns\n",
        "combined = pd.concat([df1, df2, df3, df4], axis=1)\n",
        "\n",
        "# Rename columns to indicate the car number or name\n",
        "combined.columns = ['Hyundai i10 Sportz', 'Maruti Swift LXI BSIV', 'Land Rover Range Rover 4.4 I', 'Mercedes-Benz GLA 200 BSVI']\n",
        "\n",
        "# Convert rows to columns (transpose)\n",
        "combined = combined.T\n",
        "\n",
        "# Optional: reset column names if needed\n",
        "combined.columns.name = None  # removes index label\n",
        "\n",
        "# Print table (now cars are rows)\n",
        "print(combined)\n",
        "\n",
        "# Save to CSV\n",
        "combined.to_csv(\"car_data_standard_format.csv\", index=True)"
      ],
      "metadata": {
        "colab": {
          "base_uri": "https://localhost:8080/"
        },
        "id": "f8Tmxo4VBuHs",
        "outputId": "3522775a-7713-46e6-a5e8-1c6b44ebdbe3"
      },
      "execution_count": 221,
      "outputs": [
        {
          "output_type": "stream",
          "name": "stdout",
          "text": [
            "                                                                  Car Name  \\\n",
            "Hyundai i10 Sportz                            2017 Hyundai i10 Sportz 1.1L   \n",
            "Maruti Swift LXI BSIV                           2016 Maruti Swift LXI BSIV   \n",
            "Land Rover Range Rover 4.4 I  2023 Land Rover Range Rover 4.4 I Petrol HSE   \n",
            "Mercedes-Benz GLA 200 BSVI                 2022 Mercedes-Benz GLA 200 BSVI   \n",
            "\n",
            "                                    Price Year of Manufacture Fuel Type  \\\n",
            "Hyundai i10 Sportz             ₹4.50 Lakh                2017    Petrol   \n",
            "Maruti Swift LXI BSIV          ₹4.75 Lakh                2016    Petrol   \n",
            "Land Rover Range Rover 4.4 I  ₹2.79 Crore                2023    Petrol   \n",
            "Mercedes-Benz GLA 200 BSVI       ₹43 Lakh                2022    Petrol   \n",
            "\n",
            "                             Transmission  Kms Driven   Location  \n",
            "Hyundai i10 Sportz                 Manual  67,000 Kms     Jaipur  \n",
            "Maruti Swift LXI BSIV              Manual  26,000 Kms     Mumbai  \n",
            "Land Rover Range Rover 4.4 I    Automatic  14,100 Kms  New Delhi  \n",
            "Mercedes-Benz GLA 200 BSVI      Automatic  16,000 Kms  New Delhi  \n"
          ]
        }
      ]
    },
    {
      "cell_type": "code",
      "source": [
        "df = pd.read_csv(\"car_data_standard_format.csv\")\n",
        "df"
      ],
      "metadata": {
        "colab": {
          "base_uri": "https://localhost:8080/",
          "height": 175
        },
        "id": "kNDzAaHJD1t6",
        "outputId": "28f1c37d-da86-4332-831f-fc61bc34e255"
      },
      "execution_count": 222,
      "outputs": [
        {
          "output_type": "execute_result",
          "data": {
            "text/plain": [
              "                     Unnamed: 0                                      Car Name  \\\n",
              "0            Hyundai i10 Sportz                  2017 Hyundai i10 Sportz 1.1L   \n",
              "1         Maruti Swift LXI BSIV                    2016 Maruti Swift LXI BSIV   \n",
              "2  Land Rover Range Rover 4.4 I  2023 Land Rover Range Rover 4.4 I Petrol HSE   \n",
              "3    Mercedes-Benz GLA 200 BSVI               2022 Mercedes-Benz GLA 200 BSVI   \n",
              "\n",
              "         Price  Year of Manufacture Fuel Type Transmission  Kms Driven  \\\n",
              "0   ₹4.50 Lakh                 2017    Petrol       Manual  67,000 Kms   \n",
              "1   ₹4.75 Lakh                 2016    Petrol       Manual  26,000 Kms   \n",
              "2  ₹2.79 Crore                 2023    Petrol    Automatic  14,100 Kms   \n",
              "3     ₹43 Lakh                 2022    Petrol    Automatic  16,000 Kms   \n",
              "\n",
              "    Location  \n",
              "0     Jaipur  \n",
              "1     Mumbai  \n",
              "2  New Delhi  \n",
              "3  New Delhi  "
            ],
            "text/html": [
              "\n",
              "  <div id=\"df-fe2f5c25-1740-4887-b7e6-48677865d88d\" class=\"colab-df-container\">\n",
              "    <div>\n",
              "<style scoped>\n",
              "    .dataframe tbody tr th:only-of-type {\n",
              "        vertical-align: middle;\n",
              "    }\n",
              "\n",
              "    .dataframe tbody tr th {\n",
              "        vertical-align: top;\n",
              "    }\n",
              "\n",
              "    .dataframe thead th {\n",
              "        text-align: right;\n",
              "    }\n",
              "</style>\n",
              "<table border=\"1\" class=\"dataframe\">\n",
              "  <thead>\n",
              "    <tr style=\"text-align: right;\">\n",
              "      <th></th>\n",
              "      <th>Unnamed: 0</th>\n",
              "      <th>Car Name</th>\n",
              "      <th>Price</th>\n",
              "      <th>Year of Manufacture</th>\n",
              "      <th>Fuel Type</th>\n",
              "      <th>Transmission</th>\n",
              "      <th>Kms Driven</th>\n",
              "      <th>Location</th>\n",
              "    </tr>\n",
              "  </thead>\n",
              "  <tbody>\n",
              "    <tr>\n",
              "      <th>0</th>\n",
              "      <td>Hyundai i10 Sportz</td>\n",
              "      <td>2017 Hyundai i10 Sportz 1.1L</td>\n",
              "      <td>₹4.50 Lakh</td>\n",
              "      <td>2017</td>\n",
              "      <td>Petrol</td>\n",
              "      <td>Manual</td>\n",
              "      <td>67,000 Kms</td>\n",
              "      <td>Jaipur</td>\n",
              "    </tr>\n",
              "    <tr>\n",
              "      <th>1</th>\n",
              "      <td>Maruti Swift LXI BSIV</td>\n",
              "      <td>2016 Maruti Swift LXI BSIV</td>\n",
              "      <td>₹4.75 Lakh</td>\n",
              "      <td>2016</td>\n",
              "      <td>Petrol</td>\n",
              "      <td>Manual</td>\n",
              "      <td>26,000 Kms</td>\n",
              "      <td>Mumbai</td>\n",
              "    </tr>\n",
              "    <tr>\n",
              "      <th>2</th>\n",
              "      <td>Land Rover Range Rover 4.4 I</td>\n",
              "      <td>2023 Land Rover Range Rover 4.4 I Petrol HSE</td>\n",
              "      <td>₹2.79 Crore</td>\n",
              "      <td>2023</td>\n",
              "      <td>Petrol</td>\n",
              "      <td>Automatic</td>\n",
              "      <td>14,100 Kms</td>\n",
              "      <td>New Delhi</td>\n",
              "    </tr>\n",
              "    <tr>\n",
              "      <th>3</th>\n",
              "      <td>Mercedes-Benz GLA 200 BSVI</td>\n",
              "      <td>2022 Mercedes-Benz GLA 200 BSVI</td>\n",
              "      <td>₹43 Lakh</td>\n",
              "      <td>2022</td>\n",
              "      <td>Petrol</td>\n",
              "      <td>Automatic</td>\n",
              "      <td>16,000 Kms</td>\n",
              "      <td>New Delhi</td>\n",
              "    </tr>\n",
              "  </tbody>\n",
              "</table>\n",
              "</div>\n",
              "    <div class=\"colab-df-buttons\">\n",
              "\n",
              "  <div class=\"colab-df-container\">\n",
              "    <button class=\"colab-df-convert\" onclick=\"convertToInteractive('df-fe2f5c25-1740-4887-b7e6-48677865d88d')\"\n",
              "            title=\"Convert this dataframe to an interactive table.\"\n",
              "            style=\"display:none;\">\n",
              "\n",
              "  <svg xmlns=\"http://www.w3.org/2000/svg\" height=\"24px\" viewBox=\"0 -960 960 960\">\n",
              "    <path d=\"M120-120v-720h720v720H120Zm60-500h600v-160H180v160Zm220 220h160v-160H400v160Zm0 220h160v-160H400v160ZM180-400h160v-160H180v160Zm440 0h160v-160H620v160ZM180-180h160v-160H180v160Zm440 0h160v-160H620v160Z\"/>\n",
              "  </svg>\n",
              "    </button>\n",
              "\n",
              "  <style>\n",
              "    .colab-df-container {\n",
              "      display:flex;\n",
              "      gap: 12px;\n",
              "    }\n",
              "\n",
              "    .colab-df-convert {\n",
              "      background-color: #E8F0FE;\n",
              "      border: none;\n",
              "      border-radius: 50%;\n",
              "      cursor: pointer;\n",
              "      display: none;\n",
              "      fill: #1967D2;\n",
              "      height: 32px;\n",
              "      padding: 0 0 0 0;\n",
              "      width: 32px;\n",
              "    }\n",
              "\n",
              "    .colab-df-convert:hover {\n",
              "      background-color: #E2EBFA;\n",
              "      box-shadow: 0px 1px 2px rgba(60, 64, 67, 0.3), 0px 1px 3px 1px rgba(60, 64, 67, 0.15);\n",
              "      fill: #174EA6;\n",
              "    }\n",
              "\n",
              "    .colab-df-buttons div {\n",
              "      margin-bottom: 4px;\n",
              "    }\n",
              "\n",
              "    [theme=dark] .colab-df-convert {\n",
              "      background-color: #3B4455;\n",
              "      fill: #D2E3FC;\n",
              "    }\n",
              "\n",
              "    [theme=dark] .colab-df-convert:hover {\n",
              "      background-color: #434B5C;\n",
              "      box-shadow: 0px 1px 3px 1px rgba(0, 0, 0, 0.15);\n",
              "      filter: drop-shadow(0px 1px 2px rgba(0, 0, 0, 0.3));\n",
              "      fill: #FFFFFF;\n",
              "    }\n",
              "  </style>\n",
              "\n",
              "    <script>\n",
              "      const buttonEl =\n",
              "        document.querySelector('#df-fe2f5c25-1740-4887-b7e6-48677865d88d button.colab-df-convert');\n",
              "      buttonEl.style.display =\n",
              "        google.colab.kernel.accessAllowed ? 'block' : 'none';\n",
              "\n",
              "      async function convertToInteractive(key) {\n",
              "        const element = document.querySelector('#df-fe2f5c25-1740-4887-b7e6-48677865d88d');\n",
              "        const dataTable =\n",
              "          await google.colab.kernel.invokeFunction('convertToInteractive',\n",
              "                                                    [key], {});\n",
              "        if (!dataTable) return;\n",
              "\n",
              "        const docLinkHtml = 'Like what you see? Visit the ' +\n",
              "          '<a target=\"_blank\" href=https://colab.research.google.com/notebooks/data_table.ipynb>data table notebook</a>'\n",
              "          + ' to learn more about interactive tables.';\n",
              "        element.innerHTML = '';\n",
              "        dataTable['output_type'] = 'display_data';\n",
              "        await google.colab.output.renderOutput(dataTable, element);\n",
              "        const docLink = document.createElement('div');\n",
              "        docLink.innerHTML = docLinkHtml;\n",
              "        element.appendChild(docLink);\n",
              "      }\n",
              "    </script>\n",
              "  </div>\n",
              "\n",
              "\n",
              "    <div id=\"df-d5eb2887-705d-4537-a2b1-897f40424239\">\n",
              "      <button class=\"colab-df-quickchart\" onclick=\"quickchart('df-d5eb2887-705d-4537-a2b1-897f40424239')\"\n",
              "                title=\"Suggest charts\"\n",
              "                style=\"display:none;\">\n",
              "\n",
              "<svg xmlns=\"http://www.w3.org/2000/svg\" height=\"24px\"viewBox=\"0 0 24 24\"\n",
              "     width=\"24px\">\n",
              "    <g>\n",
              "        <path d=\"M19 3H5c-1.1 0-2 .9-2 2v14c0 1.1.9 2 2 2h14c1.1 0 2-.9 2-2V5c0-1.1-.9-2-2-2zM9 17H7v-7h2v7zm4 0h-2V7h2v10zm4 0h-2v-4h2v4z\"/>\n",
              "    </g>\n",
              "</svg>\n",
              "      </button>\n",
              "\n",
              "<style>\n",
              "  .colab-df-quickchart {\n",
              "      --bg-color: #E8F0FE;\n",
              "      --fill-color: #1967D2;\n",
              "      --hover-bg-color: #E2EBFA;\n",
              "      --hover-fill-color: #174EA6;\n",
              "      --disabled-fill-color: #AAA;\n",
              "      --disabled-bg-color: #DDD;\n",
              "  }\n",
              "\n",
              "  [theme=dark] .colab-df-quickchart {\n",
              "      --bg-color: #3B4455;\n",
              "      --fill-color: #D2E3FC;\n",
              "      --hover-bg-color: #434B5C;\n",
              "      --hover-fill-color: #FFFFFF;\n",
              "      --disabled-bg-color: #3B4455;\n",
              "      --disabled-fill-color: #666;\n",
              "  }\n",
              "\n",
              "  .colab-df-quickchart {\n",
              "    background-color: var(--bg-color);\n",
              "    border: none;\n",
              "    border-radius: 50%;\n",
              "    cursor: pointer;\n",
              "    display: none;\n",
              "    fill: var(--fill-color);\n",
              "    height: 32px;\n",
              "    padding: 0;\n",
              "    width: 32px;\n",
              "  }\n",
              "\n",
              "  .colab-df-quickchart:hover {\n",
              "    background-color: var(--hover-bg-color);\n",
              "    box-shadow: 0 1px 2px rgba(60, 64, 67, 0.3), 0 1px 3px 1px rgba(60, 64, 67, 0.15);\n",
              "    fill: var(--button-hover-fill-color);\n",
              "  }\n",
              "\n",
              "  .colab-df-quickchart-complete:disabled,\n",
              "  .colab-df-quickchart-complete:disabled:hover {\n",
              "    background-color: var(--disabled-bg-color);\n",
              "    fill: var(--disabled-fill-color);\n",
              "    box-shadow: none;\n",
              "  }\n",
              "\n",
              "  .colab-df-spinner {\n",
              "    border: 2px solid var(--fill-color);\n",
              "    border-color: transparent;\n",
              "    border-bottom-color: var(--fill-color);\n",
              "    animation:\n",
              "      spin 1s steps(1) infinite;\n",
              "  }\n",
              "\n",
              "  @keyframes spin {\n",
              "    0% {\n",
              "      border-color: transparent;\n",
              "      border-bottom-color: var(--fill-color);\n",
              "      border-left-color: var(--fill-color);\n",
              "    }\n",
              "    20% {\n",
              "      border-color: transparent;\n",
              "      border-left-color: var(--fill-color);\n",
              "      border-top-color: var(--fill-color);\n",
              "    }\n",
              "    30% {\n",
              "      border-color: transparent;\n",
              "      border-left-color: var(--fill-color);\n",
              "      border-top-color: var(--fill-color);\n",
              "      border-right-color: var(--fill-color);\n",
              "    }\n",
              "    40% {\n",
              "      border-color: transparent;\n",
              "      border-right-color: var(--fill-color);\n",
              "      border-top-color: var(--fill-color);\n",
              "    }\n",
              "    60% {\n",
              "      border-color: transparent;\n",
              "      border-right-color: var(--fill-color);\n",
              "    }\n",
              "    80% {\n",
              "      border-color: transparent;\n",
              "      border-right-color: var(--fill-color);\n",
              "      border-bottom-color: var(--fill-color);\n",
              "    }\n",
              "    90% {\n",
              "      border-color: transparent;\n",
              "      border-bottom-color: var(--fill-color);\n",
              "    }\n",
              "  }\n",
              "</style>\n",
              "\n",
              "      <script>\n",
              "        async function quickchart(key) {\n",
              "          const quickchartButtonEl =\n",
              "            document.querySelector('#' + key + ' button');\n",
              "          quickchartButtonEl.disabled = true;  // To prevent multiple clicks.\n",
              "          quickchartButtonEl.classList.add('colab-df-spinner');\n",
              "          try {\n",
              "            const charts = await google.colab.kernel.invokeFunction(\n",
              "                'suggestCharts', [key], {});\n",
              "          } catch (error) {\n",
              "            console.error('Error during call to suggestCharts:', error);\n",
              "          }\n",
              "          quickchartButtonEl.classList.remove('colab-df-spinner');\n",
              "          quickchartButtonEl.classList.add('colab-df-quickchart-complete');\n",
              "        }\n",
              "        (() => {\n",
              "          let quickchartButtonEl =\n",
              "            document.querySelector('#df-d5eb2887-705d-4537-a2b1-897f40424239 button');\n",
              "          quickchartButtonEl.style.display =\n",
              "            google.colab.kernel.accessAllowed ? 'block' : 'none';\n",
              "        })();\n",
              "      </script>\n",
              "    </div>\n",
              "\n",
              "  <div id=\"id_a9047f5b-7e7e-4384-946b-32af91b7642b\">\n",
              "    <style>\n",
              "      .colab-df-generate {\n",
              "        background-color: #E8F0FE;\n",
              "        border: none;\n",
              "        border-radius: 50%;\n",
              "        cursor: pointer;\n",
              "        display: none;\n",
              "        fill: #1967D2;\n",
              "        height: 32px;\n",
              "        padding: 0 0 0 0;\n",
              "        width: 32px;\n",
              "      }\n",
              "\n",
              "      .colab-df-generate:hover {\n",
              "        background-color: #E2EBFA;\n",
              "        box-shadow: 0px 1px 2px rgba(60, 64, 67, 0.3), 0px 1px 3px 1px rgba(60, 64, 67, 0.15);\n",
              "        fill: #174EA6;\n",
              "      }\n",
              "\n",
              "      [theme=dark] .colab-df-generate {\n",
              "        background-color: #3B4455;\n",
              "        fill: #D2E3FC;\n",
              "      }\n",
              "\n",
              "      [theme=dark] .colab-df-generate:hover {\n",
              "        background-color: #434B5C;\n",
              "        box-shadow: 0px 1px 3px 1px rgba(0, 0, 0, 0.15);\n",
              "        filter: drop-shadow(0px 1px 2px rgba(0, 0, 0, 0.3));\n",
              "        fill: #FFFFFF;\n",
              "      }\n",
              "    </style>\n",
              "    <button class=\"colab-df-generate\" onclick=\"generateWithVariable('df')\"\n",
              "            title=\"Generate code using this dataframe.\"\n",
              "            style=\"display:none;\">\n",
              "\n",
              "  <svg xmlns=\"http://www.w3.org/2000/svg\" height=\"24px\"viewBox=\"0 0 24 24\"\n",
              "       width=\"24px\">\n",
              "    <path d=\"M7,19H8.4L18.45,9,17,7.55,7,17.6ZM5,21V16.75L18.45,3.32a2,2,0,0,1,2.83,0l1.4,1.43a1.91,1.91,0,0,1,.58,1.4,1.91,1.91,0,0,1-.58,1.4L9.25,21ZM18.45,9,17,7.55Zm-12,3A5.31,5.31,0,0,0,4.9,8.1,5.31,5.31,0,0,0,1,6.5,5.31,5.31,0,0,0,4.9,4.9,5.31,5.31,0,0,0,6.5,1,5.31,5.31,0,0,0,8.1,4.9,5.31,5.31,0,0,0,12,6.5,5.46,5.46,0,0,0,6.5,12Z\"/>\n",
              "  </svg>\n",
              "    </button>\n",
              "    <script>\n",
              "      (() => {\n",
              "      const buttonEl =\n",
              "        document.querySelector('#id_a9047f5b-7e7e-4384-946b-32af91b7642b button.colab-df-generate');\n",
              "      buttonEl.style.display =\n",
              "        google.colab.kernel.accessAllowed ? 'block' : 'none';\n",
              "\n",
              "      buttonEl.onclick = () => {\n",
              "        google.colab.notebook.generateWithVariable('df');\n",
              "      }\n",
              "      })();\n",
              "    </script>\n",
              "  </div>\n",
              "\n",
              "    </div>\n",
              "  </div>\n"
            ],
            "application/vnd.google.colaboratory.intrinsic+json": {
              "type": "dataframe",
              "variable_name": "df",
              "summary": "{\n  \"name\": \"df\",\n  \"rows\": 4,\n  \"fields\": [\n    {\n      \"column\": \"Unnamed: 0\",\n      \"properties\": {\n        \"dtype\": \"string\",\n        \"num_unique_values\": 4,\n        \"samples\": [\n          \"Maruti Swift LXI BSIV\",\n          \"Mercedes-Benz GLA 200 BSVI\",\n          \"Hyundai i10 Sportz\"\n        ],\n        \"semantic_type\": \"\",\n        \"description\": \"\"\n      }\n    },\n    {\n      \"column\": \"Car Name\",\n      \"properties\": {\n        \"dtype\": \"string\",\n        \"num_unique_values\": 4,\n        \"samples\": [\n          \"2016 Maruti Swift LXI BSIV\",\n          \"2022 Mercedes-Benz GLA 200 BSVI\",\n          \"2017 Hyundai i10 Sportz 1.1L\"\n        ],\n        \"semantic_type\": \"\",\n        \"description\": \"\"\n      }\n    },\n    {\n      \"column\": \"Price\",\n      \"properties\": {\n        \"dtype\": \"string\",\n        \"num_unique_values\": 4,\n        \"samples\": [\n          \"\\u20b94.75 Lakh\",\n          \"\\u20b943 Lakh\",\n          \"\\u20b94.50 Lakh\"\n        ],\n        \"semantic_type\": \"\",\n        \"description\": \"\"\n      }\n    },\n    {\n      \"column\": \"Year of Manufacture\",\n      \"properties\": {\n        \"dtype\": \"number\",\n        \"std\": 3,\n        \"min\": 2016,\n        \"max\": 2023,\n        \"num_unique_values\": 4,\n        \"samples\": [\n          2016,\n          2022,\n          2017\n        ],\n        \"semantic_type\": \"\",\n        \"description\": \"\"\n      }\n    },\n    {\n      \"column\": \"Fuel Type\",\n      \"properties\": {\n        \"dtype\": \"category\",\n        \"num_unique_values\": 1,\n        \"samples\": [\n          \"Petrol\"\n        ],\n        \"semantic_type\": \"\",\n        \"description\": \"\"\n      }\n    },\n    {\n      \"column\": \"Transmission\",\n      \"properties\": {\n        \"dtype\": \"string\",\n        \"num_unique_values\": 2,\n        \"samples\": [\n          \"Automatic\"\n        ],\n        \"semantic_type\": \"\",\n        \"description\": \"\"\n      }\n    },\n    {\n      \"column\": \"Kms Driven\",\n      \"properties\": {\n        \"dtype\": \"string\",\n        \"num_unique_values\": 4,\n        \"samples\": [\n          \"26,000 Kms\"\n        ],\n        \"semantic_type\": \"\",\n        \"description\": \"\"\n      }\n    },\n    {\n      \"column\": \"Location\",\n      \"properties\": {\n        \"dtype\": \"string\",\n        \"num_unique_values\": 3,\n        \"samples\": [\n          \"Jaipur\"\n        ],\n        \"semantic_type\": \"\",\n        \"description\": \"\"\n      }\n    }\n  ]\n}"
            }
          },
          "metadata": {},
          "execution_count": 222
        }
      ]
    },
    {
      "cell_type": "code",
      "source": [
        "# Add specified columns\n",
        "df['car make'] = ['Hyundai', 'Maruti', 'Range Rover', 'Mercedes']\n",
        "df['model'] = ['i10 Sportz', 'Swift LXI BSIV', 'Land Rover', 'Benz GLA 200 BSVI']\n",
        "\n",
        "# Reorder columns if needed\n",
        "df = df[['Car Name', 'car make', 'model', 'Year of Manufacture', 'Fuel Type', 'Transmission', 'Kms Driven', 'Location', 'Price']]\n",
        "\n",
        "# Print the final table\n",
        "print(df.to_string(index=False))\n",
        "\n",
        "# Save to CSV\n",
        "df.to_csv(\"final_car_data_with_added_columns.csv\", index=False)"
      ],
      "metadata": {
        "colab": {
          "base_uri": "https://localhost:8080/"
        },
        "id": "kjb6TeuJFSx5",
        "outputId": "304efed6-223e-4a74-86dc-1eba48776e98"
      },
      "execution_count": 223,
      "outputs": [
        {
          "output_type": "stream",
          "name": "stdout",
          "text": [
            "                                    Car Name    car make             model  Year of Manufacture Fuel Type Transmission Kms Driven  Location       Price\n",
            "                2017 Hyundai i10 Sportz 1.1L     Hyundai        i10 Sportz                 2017    Petrol       Manual 67,000 Kms    Jaipur  ₹4.50 Lakh\n",
            "                  2016 Maruti Swift LXI BSIV      Maruti    Swift LXI BSIV                 2016    Petrol       Manual 26,000 Kms    Mumbai  ₹4.75 Lakh\n",
            "2023 Land Rover Range Rover 4.4 I Petrol HSE Range Rover        Land Rover                 2023    Petrol    Automatic 14,100 Kms New Delhi ₹2.79 Crore\n",
            "             2022 Mercedes-Benz GLA 200 BSVI    Mercedes Benz GLA 200 BSVI                 2022    Petrol    Automatic 16,000 Kms New Delhi    ₹43 Lakh\n"
          ]
        }
      ]
    },
    {
      "cell_type": "code",
      "source": [
        "df = pd.read_csv(\"final_car_data_with_added_columns.csv\")\n",
        "df"
      ],
      "metadata": {
        "colab": {
          "base_uri": "https://localhost:8080/",
          "height": 175
        },
        "id": "97wMkADeFTum",
        "outputId": "195c9cc7-d033-4708-c9ba-4dbe9362ccbd"
      },
      "execution_count": 224,
      "outputs": [
        {
          "output_type": "execute_result",
          "data": {
            "text/plain": [
              "                                       Car Name     car make  \\\n",
              "0                  2017 Hyundai i10 Sportz 1.1L      Hyundai   \n",
              "1                    2016 Maruti Swift LXI BSIV       Maruti   \n",
              "2  2023 Land Rover Range Rover 4.4 I Petrol HSE  Range Rover   \n",
              "3               2022 Mercedes-Benz GLA 200 BSVI     Mercedes   \n",
              "\n",
              "               model  Year of Manufacture Fuel Type Transmission  Kms Driven  \\\n",
              "0         i10 Sportz                 2017    Petrol       Manual  67,000 Kms   \n",
              "1     Swift LXI BSIV                 2016    Petrol       Manual  26,000 Kms   \n",
              "2         Land Rover                 2023    Petrol    Automatic  14,100 Kms   \n",
              "3  Benz GLA 200 BSVI                 2022    Petrol    Automatic  16,000 Kms   \n",
              "\n",
              "    Location        Price  \n",
              "0     Jaipur   ₹4.50 Lakh  \n",
              "1     Mumbai   ₹4.75 Lakh  \n",
              "2  New Delhi  ₹2.79 Crore  \n",
              "3  New Delhi     ₹43 Lakh  "
            ],
            "text/html": [
              "\n",
              "  <div id=\"df-99fe3856-31f6-475e-be08-8482fb3ce74c\" class=\"colab-df-container\">\n",
              "    <div>\n",
              "<style scoped>\n",
              "    .dataframe tbody tr th:only-of-type {\n",
              "        vertical-align: middle;\n",
              "    }\n",
              "\n",
              "    .dataframe tbody tr th {\n",
              "        vertical-align: top;\n",
              "    }\n",
              "\n",
              "    .dataframe thead th {\n",
              "        text-align: right;\n",
              "    }\n",
              "</style>\n",
              "<table border=\"1\" class=\"dataframe\">\n",
              "  <thead>\n",
              "    <tr style=\"text-align: right;\">\n",
              "      <th></th>\n",
              "      <th>Car Name</th>\n",
              "      <th>car make</th>\n",
              "      <th>model</th>\n",
              "      <th>Year of Manufacture</th>\n",
              "      <th>Fuel Type</th>\n",
              "      <th>Transmission</th>\n",
              "      <th>Kms Driven</th>\n",
              "      <th>Location</th>\n",
              "      <th>Price</th>\n",
              "    </tr>\n",
              "  </thead>\n",
              "  <tbody>\n",
              "    <tr>\n",
              "      <th>0</th>\n",
              "      <td>2017 Hyundai i10 Sportz 1.1L</td>\n",
              "      <td>Hyundai</td>\n",
              "      <td>i10 Sportz</td>\n",
              "      <td>2017</td>\n",
              "      <td>Petrol</td>\n",
              "      <td>Manual</td>\n",
              "      <td>67,000 Kms</td>\n",
              "      <td>Jaipur</td>\n",
              "      <td>₹4.50 Lakh</td>\n",
              "    </tr>\n",
              "    <tr>\n",
              "      <th>1</th>\n",
              "      <td>2016 Maruti Swift LXI BSIV</td>\n",
              "      <td>Maruti</td>\n",
              "      <td>Swift LXI BSIV</td>\n",
              "      <td>2016</td>\n",
              "      <td>Petrol</td>\n",
              "      <td>Manual</td>\n",
              "      <td>26,000 Kms</td>\n",
              "      <td>Mumbai</td>\n",
              "      <td>₹4.75 Lakh</td>\n",
              "    </tr>\n",
              "    <tr>\n",
              "      <th>2</th>\n",
              "      <td>2023 Land Rover Range Rover 4.4 I Petrol HSE</td>\n",
              "      <td>Range Rover</td>\n",
              "      <td>Land Rover</td>\n",
              "      <td>2023</td>\n",
              "      <td>Petrol</td>\n",
              "      <td>Automatic</td>\n",
              "      <td>14,100 Kms</td>\n",
              "      <td>New Delhi</td>\n",
              "      <td>₹2.79 Crore</td>\n",
              "    </tr>\n",
              "    <tr>\n",
              "      <th>3</th>\n",
              "      <td>2022 Mercedes-Benz GLA 200 BSVI</td>\n",
              "      <td>Mercedes</td>\n",
              "      <td>Benz GLA 200 BSVI</td>\n",
              "      <td>2022</td>\n",
              "      <td>Petrol</td>\n",
              "      <td>Automatic</td>\n",
              "      <td>16,000 Kms</td>\n",
              "      <td>New Delhi</td>\n",
              "      <td>₹43 Lakh</td>\n",
              "    </tr>\n",
              "  </tbody>\n",
              "</table>\n",
              "</div>\n",
              "    <div class=\"colab-df-buttons\">\n",
              "\n",
              "  <div class=\"colab-df-container\">\n",
              "    <button class=\"colab-df-convert\" onclick=\"convertToInteractive('df-99fe3856-31f6-475e-be08-8482fb3ce74c')\"\n",
              "            title=\"Convert this dataframe to an interactive table.\"\n",
              "            style=\"display:none;\">\n",
              "\n",
              "  <svg xmlns=\"http://www.w3.org/2000/svg\" height=\"24px\" viewBox=\"0 -960 960 960\">\n",
              "    <path d=\"M120-120v-720h720v720H120Zm60-500h600v-160H180v160Zm220 220h160v-160H400v160Zm0 220h160v-160H400v160ZM180-400h160v-160H180v160Zm440 0h160v-160H620v160ZM180-180h160v-160H180v160Zm440 0h160v-160H620v160Z\"/>\n",
              "  </svg>\n",
              "    </button>\n",
              "\n",
              "  <style>\n",
              "    .colab-df-container {\n",
              "      display:flex;\n",
              "      gap: 12px;\n",
              "    }\n",
              "\n",
              "    .colab-df-convert {\n",
              "      background-color: #E8F0FE;\n",
              "      border: none;\n",
              "      border-radius: 50%;\n",
              "      cursor: pointer;\n",
              "      display: none;\n",
              "      fill: #1967D2;\n",
              "      height: 32px;\n",
              "      padding: 0 0 0 0;\n",
              "      width: 32px;\n",
              "    }\n",
              "\n",
              "    .colab-df-convert:hover {\n",
              "      background-color: #E2EBFA;\n",
              "      box-shadow: 0px 1px 2px rgba(60, 64, 67, 0.3), 0px 1px 3px 1px rgba(60, 64, 67, 0.15);\n",
              "      fill: #174EA6;\n",
              "    }\n",
              "\n",
              "    .colab-df-buttons div {\n",
              "      margin-bottom: 4px;\n",
              "    }\n",
              "\n",
              "    [theme=dark] .colab-df-convert {\n",
              "      background-color: #3B4455;\n",
              "      fill: #D2E3FC;\n",
              "    }\n",
              "\n",
              "    [theme=dark] .colab-df-convert:hover {\n",
              "      background-color: #434B5C;\n",
              "      box-shadow: 0px 1px 3px 1px rgba(0, 0, 0, 0.15);\n",
              "      filter: drop-shadow(0px 1px 2px rgba(0, 0, 0, 0.3));\n",
              "      fill: #FFFFFF;\n",
              "    }\n",
              "  </style>\n",
              "\n",
              "    <script>\n",
              "      const buttonEl =\n",
              "        document.querySelector('#df-99fe3856-31f6-475e-be08-8482fb3ce74c button.colab-df-convert');\n",
              "      buttonEl.style.display =\n",
              "        google.colab.kernel.accessAllowed ? 'block' : 'none';\n",
              "\n",
              "      async function convertToInteractive(key) {\n",
              "        const element = document.querySelector('#df-99fe3856-31f6-475e-be08-8482fb3ce74c');\n",
              "        const dataTable =\n",
              "          await google.colab.kernel.invokeFunction('convertToInteractive',\n",
              "                                                    [key], {});\n",
              "        if (!dataTable) return;\n",
              "\n",
              "        const docLinkHtml = 'Like what you see? Visit the ' +\n",
              "          '<a target=\"_blank\" href=https://colab.research.google.com/notebooks/data_table.ipynb>data table notebook</a>'\n",
              "          + ' to learn more about interactive tables.';\n",
              "        element.innerHTML = '';\n",
              "        dataTable['output_type'] = 'display_data';\n",
              "        await google.colab.output.renderOutput(dataTable, element);\n",
              "        const docLink = document.createElement('div');\n",
              "        docLink.innerHTML = docLinkHtml;\n",
              "        element.appendChild(docLink);\n",
              "      }\n",
              "    </script>\n",
              "  </div>\n",
              "\n",
              "\n",
              "    <div id=\"df-d43e6bde-b4c1-4b6b-9b00-2587c1d76fb4\">\n",
              "      <button class=\"colab-df-quickchart\" onclick=\"quickchart('df-d43e6bde-b4c1-4b6b-9b00-2587c1d76fb4')\"\n",
              "                title=\"Suggest charts\"\n",
              "                style=\"display:none;\">\n",
              "\n",
              "<svg xmlns=\"http://www.w3.org/2000/svg\" height=\"24px\"viewBox=\"0 0 24 24\"\n",
              "     width=\"24px\">\n",
              "    <g>\n",
              "        <path d=\"M19 3H5c-1.1 0-2 .9-2 2v14c0 1.1.9 2 2 2h14c1.1 0 2-.9 2-2V5c0-1.1-.9-2-2-2zM9 17H7v-7h2v7zm4 0h-2V7h2v10zm4 0h-2v-4h2v4z\"/>\n",
              "    </g>\n",
              "</svg>\n",
              "      </button>\n",
              "\n",
              "<style>\n",
              "  .colab-df-quickchart {\n",
              "      --bg-color: #E8F0FE;\n",
              "      --fill-color: #1967D2;\n",
              "      --hover-bg-color: #E2EBFA;\n",
              "      --hover-fill-color: #174EA6;\n",
              "      --disabled-fill-color: #AAA;\n",
              "      --disabled-bg-color: #DDD;\n",
              "  }\n",
              "\n",
              "  [theme=dark] .colab-df-quickchart {\n",
              "      --bg-color: #3B4455;\n",
              "      --fill-color: #D2E3FC;\n",
              "      --hover-bg-color: #434B5C;\n",
              "      --hover-fill-color: #FFFFFF;\n",
              "      --disabled-bg-color: #3B4455;\n",
              "      --disabled-fill-color: #666;\n",
              "  }\n",
              "\n",
              "  .colab-df-quickchart {\n",
              "    background-color: var(--bg-color);\n",
              "    border: none;\n",
              "    border-radius: 50%;\n",
              "    cursor: pointer;\n",
              "    display: none;\n",
              "    fill: var(--fill-color);\n",
              "    height: 32px;\n",
              "    padding: 0;\n",
              "    width: 32px;\n",
              "  }\n",
              "\n",
              "  .colab-df-quickchart:hover {\n",
              "    background-color: var(--hover-bg-color);\n",
              "    box-shadow: 0 1px 2px rgba(60, 64, 67, 0.3), 0 1px 3px 1px rgba(60, 64, 67, 0.15);\n",
              "    fill: var(--button-hover-fill-color);\n",
              "  }\n",
              "\n",
              "  .colab-df-quickchart-complete:disabled,\n",
              "  .colab-df-quickchart-complete:disabled:hover {\n",
              "    background-color: var(--disabled-bg-color);\n",
              "    fill: var(--disabled-fill-color);\n",
              "    box-shadow: none;\n",
              "  }\n",
              "\n",
              "  .colab-df-spinner {\n",
              "    border: 2px solid var(--fill-color);\n",
              "    border-color: transparent;\n",
              "    border-bottom-color: var(--fill-color);\n",
              "    animation:\n",
              "      spin 1s steps(1) infinite;\n",
              "  }\n",
              "\n",
              "  @keyframes spin {\n",
              "    0% {\n",
              "      border-color: transparent;\n",
              "      border-bottom-color: var(--fill-color);\n",
              "      border-left-color: var(--fill-color);\n",
              "    }\n",
              "    20% {\n",
              "      border-color: transparent;\n",
              "      border-left-color: var(--fill-color);\n",
              "      border-top-color: var(--fill-color);\n",
              "    }\n",
              "    30% {\n",
              "      border-color: transparent;\n",
              "      border-left-color: var(--fill-color);\n",
              "      border-top-color: var(--fill-color);\n",
              "      border-right-color: var(--fill-color);\n",
              "    }\n",
              "    40% {\n",
              "      border-color: transparent;\n",
              "      border-right-color: var(--fill-color);\n",
              "      border-top-color: var(--fill-color);\n",
              "    }\n",
              "    60% {\n",
              "      border-color: transparent;\n",
              "      border-right-color: var(--fill-color);\n",
              "    }\n",
              "    80% {\n",
              "      border-color: transparent;\n",
              "      border-right-color: var(--fill-color);\n",
              "      border-bottom-color: var(--fill-color);\n",
              "    }\n",
              "    90% {\n",
              "      border-color: transparent;\n",
              "      border-bottom-color: var(--fill-color);\n",
              "    }\n",
              "  }\n",
              "</style>\n",
              "\n",
              "      <script>\n",
              "        async function quickchart(key) {\n",
              "          const quickchartButtonEl =\n",
              "            document.querySelector('#' + key + ' button');\n",
              "          quickchartButtonEl.disabled = true;  // To prevent multiple clicks.\n",
              "          quickchartButtonEl.classList.add('colab-df-spinner');\n",
              "          try {\n",
              "            const charts = await google.colab.kernel.invokeFunction(\n",
              "                'suggestCharts', [key], {});\n",
              "          } catch (error) {\n",
              "            console.error('Error during call to suggestCharts:', error);\n",
              "          }\n",
              "          quickchartButtonEl.classList.remove('colab-df-spinner');\n",
              "          quickchartButtonEl.classList.add('colab-df-quickchart-complete');\n",
              "        }\n",
              "        (() => {\n",
              "          let quickchartButtonEl =\n",
              "            document.querySelector('#df-d43e6bde-b4c1-4b6b-9b00-2587c1d76fb4 button');\n",
              "          quickchartButtonEl.style.display =\n",
              "            google.colab.kernel.accessAllowed ? 'block' : 'none';\n",
              "        })();\n",
              "      </script>\n",
              "    </div>\n",
              "\n",
              "  <div id=\"id_d657fc8a-d466-4243-b9b9-3abb0eed539f\">\n",
              "    <style>\n",
              "      .colab-df-generate {\n",
              "        background-color: #E8F0FE;\n",
              "        border: none;\n",
              "        border-radius: 50%;\n",
              "        cursor: pointer;\n",
              "        display: none;\n",
              "        fill: #1967D2;\n",
              "        height: 32px;\n",
              "        padding: 0 0 0 0;\n",
              "        width: 32px;\n",
              "      }\n",
              "\n",
              "      .colab-df-generate:hover {\n",
              "        background-color: #E2EBFA;\n",
              "        box-shadow: 0px 1px 2px rgba(60, 64, 67, 0.3), 0px 1px 3px 1px rgba(60, 64, 67, 0.15);\n",
              "        fill: #174EA6;\n",
              "      }\n",
              "\n",
              "      [theme=dark] .colab-df-generate {\n",
              "        background-color: #3B4455;\n",
              "        fill: #D2E3FC;\n",
              "      }\n",
              "\n",
              "      [theme=dark] .colab-df-generate:hover {\n",
              "        background-color: #434B5C;\n",
              "        box-shadow: 0px 1px 3px 1px rgba(0, 0, 0, 0.15);\n",
              "        filter: drop-shadow(0px 1px 2px rgba(0, 0, 0, 0.3));\n",
              "        fill: #FFFFFF;\n",
              "      }\n",
              "    </style>\n",
              "    <button class=\"colab-df-generate\" onclick=\"generateWithVariable('df')\"\n",
              "            title=\"Generate code using this dataframe.\"\n",
              "            style=\"display:none;\">\n",
              "\n",
              "  <svg xmlns=\"http://www.w3.org/2000/svg\" height=\"24px\"viewBox=\"0 0 24 24\"\n",
              "       width=\"24px\">\n",
              "    <path d=\"M7,19H8.4L18.45,9,17,7.55,7,17.6ZM5,21V16.75L18.45,3.32a2,2,0,0,1,2.83,0l1.4,1.43a1.91,1.91,0,0,1,.58,1.4,1.91,1.91,0,0,1-.58,1.4L9.25,21ZM18.45,9,17,7.55Zm-12,3A5.31,5.31,0,0,0,4.9,8.1,5.31,5.31,0,0,0,1,6.5,5.31,5.31,0,0,0,4.9,4.9,5.31,5.31,0,0,0,6.5,1,5.31,5.31,0,0,0,8.1,4.9,5.31,5.31,0,0,0,12,6.5,5.46,5.46,0,0,0,6.5,12Z\"/>\n",
              "  </svg>\n",
              "    </button>\n",
              "    <script>\n",
              "      (() => {\n",
              "      const buttonEl =\n",
              "        document.querySelector('#id_d657fc8a-d466-4243-b9b9-3abb0eed539f button.colab-df-generate');\n",
              "      buttonEl.style.display =\n",
              "        google.colab.kernel.accessAllowed ? 'block' : 'none';\n",
              "\n",
              "      buttonEl.onclick = () => {\n",
              "        google.colab.notebook.generateWithVariable('df');\n",
              "      }\n",
              "      })();\n",
              "    </script>\n",
              "  </div>\n",
              "\n",
              "    </div>\n",
              "  </div>\n"
            ],
            "application/vnd.google.colaboratory.intrinsic+json": {
              "type": "dataframe",
              "variable_name": "df",
              "summary": "{\n  \"name\": \"df\",\n  \"rows\": 4,\n  \"fields\": [\n    {\n      \"column\": \"Car Name\",\n      \"properties\": {\n        \"dtype\": \"string\",\n        \"num_unique_values\": 4,\n        \"samples\": [\n          \"2016 Maruti Swift LXI BSIV\",\n          \"2022 Mercedes-Benz GLA 200 BSVI\",\n          \"2017 Hyundai i10 Sportz 1.1L\"\n        ],\n        \"semantic_type\": \"\",\n        \"description\": \"\"\n      }\n    },\n    {\n      \"column\": \"car make\",\n      \"properties\": {\n        \"dtype\": \"string\",\n        \"num_unique_values\": 4,\n        \"samples\": [\n          \"Maruti\",\n          \"Mercedes\",\n          \"Hyundai\"\n        ],\n        \"semantic_type\": \"\",\n        \"description\": \"\"\n      }\n    },\n    {\n      \"column\": \"model\",\n      \"properties\": {\n        \"dtype\": \"string\",\n        \"num_unique_values\": 4,\n        \"samples\": [\n          \"Swift LXI BSIV\",\n          \"Benz GLA 200 BSVI\",\n          \"i10 Sportz\"\n        ],\n        \"semantic_type\": \"\",\n        \"description\": \"\"\n      }\n    },\n    {\n      \"column\": \"Year of Manufacture\",\n      \"properties\": {\n        \"dtype\": \"number\",\n        \"std\": 3,\n        \"min\": 2016,\n        \"max\": 2023,\n        \"num_unique_values\": 4,\n        \"samples\": [\n          2016,\n          2022,\n          2017\n        ],\n        \"semantic_type\": \"\",\n        \"description\": \"\"\n      }\n    },\n    {\n      \"column\": \"Fuel Type\",\n      \"properties\": {\n        \"dtype\": \"category\",\n        \"num_unique_values\": 1,\n        \"samples\": [\n          \"Petrol\"\n        ],\n        \"semantic_type\": \"\",\n        \"description\": \"\"\n      }\n    },\n    {\n      \"column\": \"Transmission\",\n      \"properties\": {\n        \"dtype\": \"string\",\n        \"num_unique_values\": 2,\n        \"samples\": [\n          \"Automatic\"\n        ],\n        \"semantic_type\": \"\",\n        \"description\": \"\"\n      }\n    },\n    {\n      \"column\": \"Kms Driven\",\n      \"properties\": {\n        \"dtype\": \"string\",\n        \"num_unique_values\": 4,\n        \"samples\": [\n          \"26,000 Kms\"\n        ],\n        \"semantic_type\": \"\",\n        \"description\": \"\"\n      }\n    },\n    {\n      \"column\": \"Location\",\n      \"properties\": {\n        \"dtype\": \"string\",\n        \"num_unique_values\": 3,\n        \"samples\": [\n          \"Jaipur\"\n        ],\n        \"semantic_type\": \"\",\n        \"description\": \"\"\n      }\n    },\n    {\n      \"column\": \"Price\",\n      \"properties\": {\n        \"dtype\": \"string\",\n        \"num_unique_values\": 4,\n        \"samples\": [\n          \"\\u20b94.75 Lakh\"\n        ],\n        \"semantic_type\": \"\",\n        \"description\": \"\"\n      }\n    }\n  ]\n}"
            }
          },
          "metadata": {},
          "execution_count": 224
        }
      ]
    },
    {
      "cell_type": "markdown",
      "source": [
        "DATA CLEANING"
      ],
      "metadata": {
        "id": "ezMjBlbEMgfr"
      }
    },
    {
      "cell_type": "code",
      "source": [
        "#Clean \"Kms Driven\" column: remove commas and \"Kms\", convert to int\n",
        "df['Kms Driven'] = df['Kms Driven'].astype(str).str.replace(',', '').str.replace(' Kms', '').astype(int)\n",
        "\n",
        "# Clean \"Price\" column: remove ₹, Lakh, Crore and convert to numeric in rupees\n",
        "def convert_price(price):\n",
        "    price = price.replace('₹', '').strip()\n",
        "    if 'Lakh' in price:\n",
        "        return float(price.replace('Lakh', '').strip()) * 1e5\n",
        "    elif 'Crore' in price:\n",
        "        return float(price.replace('Crore', '').strip()) * 1e7\n",
        "    else:\n",
        "        return float(price)  # fallback\n",
        "\n",
        "df['Price (Rupees)'] = df['Price'].apply(convert_price).astype(int)\n",
        "\n",
        "# Drop original 'Price' column\n",
        "df.drop('Price', axis=1, inplace=True)\n",
        "\n",
        "# Final output\n",
        "print(df.to_string(index=False))\n",
        "\n",
        "# Save cleaned version\n",
        "df.to_csv(\"final_cleaned_car_data.csv\", index=False)"
      ],
      "metadata": {
        "colab": {
          "base_uri": "https://localhost:8080/"
        },
        "id": "H2Q7BIidIqaz",
        "outputId": "abff5e37-9034-444d-82d5-380fb57eea9e"
      },
      "execution_count": 225,
      "outputs": [
        {
          "output_type": "stream",
          "name": "stdout",
          "text": [
            "                                    Car Name    car make             model  Year of Manufacture Fuel Type Transmission  Kms Driven  Location  Price (Rupees)\n",
            "                2017 Hyundai i10 Sportz 1.1L     Hyundai        i10 Sportz                 2017    Petrol       Manual       67000    Jaipur          450000\n",
            "                  2016 Maruti Swift LXI BSIV      Maruti    Swift LXI BSIV                 2016    Petrol       Manual       26000    Mumbai          475000\n",
            "2023 Land Rover Range Rover 4.4 I Petrol HSE Range Rover        Land Rover                 2023    Petrol    Automatic       14100 New Delhi        27900000\n",
            "             2022 Mercedes-Benz GLA 200 BSVI    Mercedes Benz GLA 200 BSVI                 2022    Petrol    Automatic       16000 New Delhi         4300000\n"
          ]
        }
      ]
    },
    {
      "cell_type": "markdown",
      "source": [
        "FINAL CSV CONVERTED DATASET AMD TABLE"
      ],
      "metadata": {
        "id": "MNDuWStfMnfH"
      }
    },
    {
      "cell_type": "code",
      "source": [
        "df = pd.read_csv(\"final_cleaned_car_data.csv\")\n",
        "df"
      ],
      "metadata": {
        "colab": {
          "base_uri": "https://localhost:8080/",
          "height": 175
        },
        "id": "9WOYrCXQJgDl",
        "outputId": "38959142-6da4-44f2-da08-691f83b47724"
      },
      "execution_count": 226,
      "outputs": [
        {
          "output_type": "execute_result",
          "data": {
            "text/plain": [
              "                                       Car Name     car make  \\\n",
              "0                  2017 Hyundai i10 Sportz 1.1L      Hyundai   \n",
              "1                    2016 Maruti Swift LXI BSIV       Maruti   \n",
              "2  2023 Land Rover Range Rover 4.4 I Petrol HSE  Range Rover   \n",
              "3               2022 Mercedes-Benz GLA 200 BSVI     Mercedes   \n",
              "\n",
              "               model  Year of Manufacture Fuel Type Transmission  Kms Driven  \\\n",
              "0         i10 Sportz                 2017    Petrol       Manual       67000   \n",
              "1     Swift LXI BSIV                 2016    Petrol       Manual       26000   \n",
              "2         Land Rover                 2023    Petrol    Automatic       14100   \n",
              "3  Benz GLA 200 BSVI                 2022    Petrol    Automatic       16000   \n",
              "\n",
              "    Location  Price (Rupees)  \n",
              "0     Jaipur          450000  \n",
              "1     Mumbai          475000  \n",
              "2  New Delhi        27900000  \n",
              "3  New Delhi         4300000  "
            ],
            "text/html": [
              "\n",
              "  <div id=\"df-221e3697-4fac-4757-a4dc-04d11b36b41d\" class=\"colab-df-container\">\n",
              "    <div>\n",
              "<style scoped>\n",
              "    .dataframe tbody tr th:only-of-type {\n",
              "        vertical-align: middle;\n",
              "    }\n",
              "\n",
              "    .dataframe tbody tr th {\n",
              "        vertical-align: top;\n",
              "    }\n",
              "\n",
              "    .dataframe thead th {\n",
              "        text-align: right;\n",
              "    }\n",
              "</style>\n",
              "<table border=\"1\" class=\"dataframe\">\n",
              "  <thead>\n",
              "    <tr style=\"text-align: right;\">\n",
              "      <th></th>\n",
              "      <th>Car Name</th>\n",
              "      <th>car make</th>\n",
              "      <th>model</th>\n",
              "      <th>Year of Manufacture</th>\n",
              "      <th>Fuel Type</th>\n",
              "      <th>Transmission</th>\n",
              "      <th>Kms Driven</th>\n",
              "      <th>Location</th>\n",
              "      <th>Price (Rupees)</th>\n",
              "    </tr>\n",
              "  </thead>\n",
              "  <tbody>\n",
              "    <tr>\n",
              "      <th>0</th>\n",
              "      <td>2017 Hyundai i10 Sportz 1.1L</td>\n",
              "      <td>Hyundai</td>\n",
              "      <td>i10 Sportz</td>\n",
              "      <td>2017</td>\n",
              "      <td>Petrol</td>\n",
              "      <td>Manual</td>\n",
              "      <td>67000</td>\n",
              "      <td>Jaipur</td>\n",
              "      <td>450000</td>\n",
              "    </tr>\n",
              "    <tr>\n",
              "      <th>1</th>\n",
              "      <td>2016 Maruti Swift LXI BSIV</td>\n",
              "      <td>Maruti</td>\n",
              "      <td>Swift LXI BSIV</td>\n",
              "      <td>2016</td>\n",
              "      <td>Petrol</td>\n",
              "      <td>Manual</td>\n",
              "      <td>26000</td>\n",
              "      <td>Mumbai</td>\n",
              "      <td>475000</td>\n",
              "    </tr>\n",
              "    <tr>\n",
              "      <th>2</th>\n",
              "      <td>2023 Land Rover Range Rover 4.4 I Petrol HSE</td>\n",
              "      <td>Range Rover</td>\n",
              "      <td>Land Rover</td>\n",
              "      <td>2023</td>\n",
              "      <td>Petrol</td>\n",
              "      <td>Automatic</td>\n",
              "      <td>14100</td>\n",
              "      <td>New Delhi</td>\n",
              "      <td>27900000</td>\n",
              "    </tr>\n",
              "    <tr>\n",
              "      <th>3</th>\n",
              "      <td>2022 Mercedes-Benz GLA 200 BSVI</td>\n",
              "      <td>Mercedes</td>\n",
              "      <td>Benz GLA 200 BSVI</td>\n",
              "      <td>2022</td>\n",
              "      <td>Petrol</td>\n",
              "      <td>Automatic</td>\n",
              "      <td>16000</td>\n",
              "      <td>New Delhi</td>\n",
              "      <td>4300000</td>\n",
              "    </tr>\n",
              "  </tbody>\n",
              "</table>\n",
              "</div>\n",
              "    <div class=\"colab-df-buttons\">\n",
              "\n",
              "  <div class=\"colab-df-container\">\n",
              "    <button class=\"colab-df-convert\" onclick=\"convertToInteractive('df-221e3697-4fac-4757-a4dc-04d11b36b41d')\"\n",
              "            title=\"Convert this dataframe to an interactive table.\"\n",
              "            style=\"display:none;\">\n",
              "\n",
              "  <svg xmlns=\"http://www.w3.org/2000/svg\" height=\"24px\" viewBox=\"0 -960 960 960\">\n",
              "    <path d=\"M120-120v-720h720v720H120Zm60-500h600v-160H180v160Zm220 220h160v-160H400v160Zm0 220h160v-160H400v160ZM180-400h160v-160H180v160Zm440 0h160v-160H620v160ZM180-180h160v-160H180v160Zm440 0h160v-160H620v160Z\"/>\n",
              "  </svg>\n",
              "    </button>\n",
              "\n",
              "  <style>\n",
              "    .colab-df-container {\n",
              "      display:flex;\n",
              "      gap: 12px;\n",
              "    }\n",
              "\n",
              "    .colab-df-convert {\n",
              "      background-color: #E8F0FE;\n",
              "      border: none;\n",
              "      border-radius: 50%;\n",
              "      cursor: pointer;\n",
              "      display: none;\n",
              "      fill: #1967D2;\n",
              "      height: 32px;\n",
              "      padding: 0 0 0 0;\n",
              "      width: 32px;\n",
              "    }\n",
              "\n",
              "    .colab-df-convert:hover {\n",
              "      background-color: #E2EBFA;\n",
              "      box-shadow: 0px 1px 2px rgba(60, 64, 67, 0.3), 0px 1px 3px 1px rgba(60, 64, 67, 0.15);\n",
              "      fill: #174EA6;\n",
              "    }\n",
              "\n",
              "    .colab-df-buttons div {\n",
              "      margin-bottom: 4px;\n",
              "    }\n",
              "\n",
              "    [theme=dark] .colab-df-convert {\n",
              "      background-color: #3B4455;\n",
              "      fill: #D2E3FC;\n",
              "    }\n",
              "\n",
              "    [theme=dark] .colab-df-convert:hover {\n",
              "      background-color: #434B5C;\n",
              "      box-shadow: 0px 1px 3px 1px rgba(0, 0, 0, 0.15);\n",
              "      filter: drop-shadow(0px 1px 2px rgba(0, 0, 0, 0.3));\n",
              "      fill: #FFFFFF;\n",
              "    }\n",
              "  </style>\n",
              "\n",
              "    <script>\n",
              "      const buttonEl =\n",
              "        document.querySelector('#df-221e3697-4fac-4757-a4dc-04d11b36b41d button.colab-df-convert');\n",
              "      buttonEl.style.display =\n",
              "        google.colab.kernel.accessAllowed ? 'block' : 'none';\n",
              "\n",
              "      async function convertToInteractive(key) {\n",
              "        const element = document.querySelector('#df-221e3697-4fac-4757-a4dc-04d11b36b41d');\n",
              "        const dataTable =\n",
              "          await google.colab.kernel.invokeFunction('convertToInteractive',\n",
              "                                                    [key], {});\n",
              "        if (!dataTable) return;\n",
              "\n",
              "        const docLinkHtml = 'Like what you see? Visit the ' +\n",
              "          '<a target=\"_blank\" href=https://colab.research.google.com/notebooks/data_table.ipynb>data table notebook</a>'\n",
              "          + ' to learn more about interactive tables.';\n",
              "        element.innerHTML = '';\n",
              "        dataTable['output_type'] = 'display_data';\n",
              "        await google.colab.output.renderOutput(dataTable, element);\n",
              "        const docLink = document.createElement('div');\n",
              "        docLink.innerHTML = docLinkHtml;\n",
              "        element.appendChild(docLink);\n",
              "      }\n",
              "    </script>\n",
              "  </div>\n",
              "\n",
              "\n",
              "    <div id=\"df-02fe38a6-1a08-4639-b889-f5bf7db130e1\">\n",
              "      <button class=\"colab-df-quickchart\" onclick=\"quickchart('df-02fe38a6-1a08-4639-b889-f5bf7db130e1')\"\n",
              "                title=\"Suggest charts\"\n",
              "                style=\"display:none;\">\n",
              "\n",
              "<svg xmlns=\"http://www.w3.org/2000/svg\" height=\"24px\"viewBox=\"0 0 24 24\"\n",
              "     width=\"24px\">\n",
              "    <g>\n",
              "        <path d=\"M19 3H5c-1.1 0-2 .9-2 2v14c0 1.1.9 2 2 2h14c1.1 0 2-.9 2-2V5c0-1.1-.9-2-2-2zM9 17H7v-7h2v7zm4 0h-2V7h2v10zm4 0h-2v-4h2v4z\"/>\n",
              "    </g>\n",
              "</svg>\n",
              "      </button>\n",
              "\n",
              "<style>\n",
              "  .colab-df-quickchart {\n",
              "      --bg-color: #E8F0FE;\n",
              "      --fill-color: #1967D2;\n",
              "      --hover-bg-color: #E2EBFA;\n",
              "      --hover-fill-color: #174EA6;\n",
              "      --disabled-fill-color: #AAA;\n",
              "      --disabled-bg-color: #DDD;\n",
              "  }\n",
              "\n",
              "  [theme=dark] .colab-df-quickchart {\n",
              "      --bg-color: #3B4455;\n",
              "      --fill-color: #D2E3FC;\n",
              "      --hover-bg-color: #434B5C;\n",
              "      --hover-fill-color: #FFFFFF;\n",
              "      --disabled-bg-color: #3B4455;\n",
              "      --disabled-fill-color: #666;\n",
              "  }\n",
              "\n",
              "  .colab-df-quickchart {\n",
              "    background-color: var(--bg-color);\n",
              "    border: none;\n",
              "    border-radius: 50%;\n",
              "    cursor: pointer;\n",
              "    display: none;\n",
              "    fill: var(--fill-color);\n",
              "    height: 32px;\n",
              "    padding: 0;\n",
              "    width: 32px;\n",
              "  }\n",
              "\n",
              "  .colab-df-quickchart:hover {\n",
              "    background-color: var(--hover-bg-color);\n",
              "    box-shadow: 0 1px 2px rgba(60, 64, 67, 0.3), 0 1px 3px 1px rgba(60, 64, 67, 0.15);\n",
              "    fill: var(--button-hover-fill-color);\n",
              "  }\n",
              "\n",
              "  .colab-df-quickchart-complete:disabled,\n",
              "  .colab-df-quickchart-complete:disabled:hover {\n",
              "    background-color: var(--disabled-bg-color);\n",
              "    fill: var(--disabled-fill-color);\n",
              "    box-shadow: none;\n",
              "  }\n",
              "\n",
              "  .colab-df-spinner {\n",
              "    border: 2px solid var(--fill-color);\n",
              "    border-color: transparent;\n",
              "    border-bottom-color: var(--fill-color);\n",
              "    animation:\n",
              "      spin 1s steps(1) infinite;\n",
              "  }\n",
              "\n",
              "  @keyframes spin {\n",
              "    0% {\n",
              "      border-color: transparent;\n",
              "      border-bottom-color: var(--fill-color);\n",
              "      border-left-color: var(--fill-color);\n",
              "    }\n",
              "    20% {\n",
              "      border-color: transparent;\n",
              "      border-left-color: var(--fill-color);\n",
              "      border-top-color: var(--fill-color);\n",
              "    }\n",
              "    30% {\n",
              "      border-color: transparent;\n",
              "      border-left-color: var(--fill-color);\n",
              "      border-top-color: var(--fill-color);\n",
              "      border-right-color: var(--fill-color);\n",
              "    }\n",
              "    40% {\n",
              "      border-color: transparent;\n",
              "      border-right-color: var(--fill-color);\n",
              "      border-top-color: var(--fill-color);\n",
              "    }\n",
              "    60% {\n",
              "      border-color: transparent;\n",
              "      border-right-color: var(--fill-color);\n",
              "    }\n",
              "    80% {\n",
              "      border-color: transparent;\n",
              "      border-right-color: var(--fill-color);\n",
              "      border-bottom-color: var(--fill-color);\n",
              "    }\n",
              "    90% {\n",
              "      border-color: transparent;\n",
              "      border-bottom-color: var(--fill-color);\n",
              "    }\n",
              "  }\n",
              "</style>\n",
              "\n",
              "      <script>\n",
              "        async function quickchart(key) {\n",
              "          const quickchartButtonEl =\n",
              "            document.querySelector('#' + key + ' button');\n",
              "          quickchartButtonEl.disabled = true;  // To prevent multiple clicks.\n",
              "          quickchartButtonEl.classList.add('colab-df-spinner');\n",
              "          try {\n",
              "            const charts = await google.colab.kernel.invokeFunction(\n",
              "                'suggestCharts', [key], {});\n",
              "          } catch (error) {\n",
              "            console.error('Error during call to suggestCharts:', error);\n",
              "          }\n",
              "          quickchartButtonEl.classList.remove('colab-df-spinner');\n",
              "          quickchartButtonEl.classList.add('colab-df-quickchart-complete');\n",
              "        }\n",
              "        (() => {\n",
              "          let quickchartButtonEl =\n",
              "            document.querySelector('#df-02fe38a6-1a08-4639-b889-f5bf7db130e1 button');\n",
              "          quickchartButtonEl.style.display =\n",
              "            google.colab.kernel.accessAllowed ? 'block' : 'none';\n",
              "        })();\n",
              "      </script>\n",
              "    </div>\n",
              "\n",
              "  <div id=\"id_d1738314-9d94-4773-8c81-80101a026ce1\">\n",
              "    <style>\n",
              "      .colab-df-generate {\n",
              "        background-color: #E8F0FE;\n",
              "        border: none;\n",
              "        border-radius: 50%;\n",
              "        cursor: pointer;\n",
              "        display: none;\n",
              "        fill: #1967D2;\n",
              "        height: 32px;\n",
              "        padding: 0 0 0 0;\n",
              "        width: 32px;\n",
              "      }\n",
              "\n",
              "      .colab-df-generate:hover {\n",
              "        background-color: #E2EBFA;\n",
              "        box-shadow: 0px 1px 2px rgba(60, 64, 67, 0.3), 0px 1px 3px 1px rgba(60, 64, 67, 0.15);\n",
              "        fill: #174EA6;\n",
              "      }\n",
              "\n",
              "      [theme=dark] .colab-df-generate {\n",
              "        background-color: #3B4455;\n",
              "        fill: #D2E3FC;\n",
              "      }\n",
              "\n",
              "      [theme=dark] .colab-df-generate:hover {\n",
              "        background-color: #434B5C;\n",
              "        box-shadow: 0px 1px 3px 1px rgba(0, 0, 0, 0.15);\n",
              "        filter: drop-shadow(0px 1px 2px rgba(0, 0, 0, 0.3));\n",
              "        fill: #FFFFFF;\n",
              "      }\n",
              "    </style>\n",
              "    <button class=\"colab-df-generate\" onclick=\"generateWithVariable('df')\"\n",
              "            title=\"Generate code using this dataframe.\"\n",
              "            style=\"display:none;\">\n",
              "\n",
              "  <svg xmlns=\"http://www.w3.org/2000/svg\" height=\"24px\"viewBox=\"0 0 24 24\"\n",
              "       width=\"24px\">\n",
              "    <path d=\"M7,19H8.4L18.45,9,17,7.55,7,17.6ZM5,21V16.75L18.45,3.32a2,2,0,0,1,2.83,0l1.4,1.43a1.91,1.91,0,0,1,.58,1.4,1.91,1.91,0,0,1-.58,1.4L9.25,21ZM18.45,9,17,7.55Zm-12,3A5.31,5.31,0,0,0,4.9,8.1,5.31,5.31,0,0,0,1,6.5,5.31,5.31,0,0,0,4.9,4.9,5.31,5.31,0,0,0,6.5,1,5.31,5.31,0,0,0,8.1,4.9,5.31,5.31,0,0,0,12,6.5,5.46,5.46,0,0,0,6.5,12Z\"/>\n",
              "  </svg>\n",
              "    </button>\n",
              "    <script>\n",
              "      (() => {\n",
              "      const buttonEl =\n",
              "        document.querySelector('#id_d1738314-9d94-4773-8c81-80101a026ce1 button.colab-df-generate');\n",
              "      buttonEl.style.display =\n",
              "        google.colab.kernel.accessAllowed ? 'block' : 'none';\n",
              "\n",
              "      buttonEl.onclick = () => {\n",
              "        google.colab.notebook.generateWithVariable('df');\n",
              "      }\n",
              "      })();\n",
              "    </script>\n",
              "  </div>\n",
              "\n",
              "    </div>\n",
              "  </div>\n"
            ],
            "application/vnd.google.colaboratory.intrinsic+json": {
              "type": "dataframe",
              "variable_name": "df",
              "summary": "{\n  \"name\": \"df\",\n  \"rows\": 4,\n  \"fields\": [\n    {\n      \"column\": \"Car Name\",\n      \"properties\": {\n        \"dtype\": \"string\",\n        \"num_unique_values\": 4,\n        \"samples\": [\n          \"2016 Maruti Swift LXI BSIV\",\n          \"2022 Mercedes-Benz GLA 200 BSVI\",\n          \"2017 Hyundai i10 Sportz 1.1L\"\n        ],\n        \"semantic_type\": \"\",\n        \"description\": \"\"\n      }\n    },\n    {\n      \"column\": \"car make\",\n      \"properties\": {\n        \"dtype\": \"string\",\n        \"num_unique_values\": 4,\n        \"samples\": [\n          \"Maruti\",\n          \"Mercedes\",\n          \"Hyundai\"\n        ],\n        \"semantic_type\": \"\",\n        \"description\": \"\"\n      }\n    },\n    {\n      \"column\": \"model\",\n      \"properties\": {\n        \"dtype\": \"string\",\n        \"num_unique_values\": 4,\n        \"samples\": [\n          \"Swift LXI BSIV\",\n          \"Benz GLA 200 BSVI\",\n          \"i10 Sportz\"\n        ],\n        \"semantic_type\": \"\",\n        \"description\": \"\"\n      }\n    },\n    {\n      \"column\": \"Year of Manufacture\",\n      \"properties\": {\n        \"dtype\": \"number\",\n        \"std\": 3,\n        \"min\": 2016,\n        \"max\": 2023,\n        \"num_unique_values\": 4,\n        \"samples\": [\n          2016,\n          2022,\n          2017\n        ],\n        \"semantic_type\": \"\",\n        \"description\": \"\"\n      }\n    },\n    {\n      \"column\": \"Fuel Type\",\n      \"properties\": {\n        \"dtype\": \"category\",\n        \"num_unique_values\": 1,\n        \"samples\": [\n          \"Petrol\"\n        ],\n        \"semantic_type\": \"\",\n        \"description\": \"\"\n      }\n    },\n    {\n      \"column\": \"Transmission\",\n      \"properties\": {\n        \"dtype\": \"string\",\n        \"num_unique_values\": 2,\n        \"samples\": [\n          \"Automatic\"\n        ],\n        \"semantic_type\": \"\",\n        \"description\": \"\"\n      }\n    },\n    {\n      \"column\": \"Kms Driven\",\n      \"properties\": {\n        \"dtype\": \"number\",\n        \"std\": 24707,\n        \"min\": 14100,\n        \"max\": 67000,\n        \"num_unique_values\": 4,\n        \"samples\": [\n          26000\n        ],\n        \"semantic_type\": \"\",\n        \"description\": \"\"\n      }\n    },\n    {\n      \"column\": \"Location\",\n      \"properties\": {\n        \"dtype\": \"string\",\n        \"num_unique_values\": 3,\n        \"samples\": [\n          \"Jaipur\"\n        ],\n        \"semantic_type\": \"\",\n        \"description\": \"\"\n      }\n    },\n    {\n      \"column\": \"Price (Rupees)\",\n      \"properties\": {\n        \"dtype\": \"number\",\n        \"std\": 13203682,\n        \"min\": 450000,\n        \"max\": 27900000,\n        \"num_unique_values\": 4,\n        \"samples\": [\n          475000\n        ],\n        \"semantic_type\": \"\",\n        \"description\": \"\"\n      }\n    }\n  ]\n}"
            }
          },
          "metadata": {},
          "execution_count": 226
        }
      ]
    },
    {
      "cell_type": "markdown",
      "source": [
        "EXPLORATORY DATA ANALYSIS"
      ],
      "metadata": {
        "id": "0MoISECKMtR_"
      }
    },
    {
      "cell_type": "code",
      "source": [
        "import seaborn as sns\n",
        "import matplotlib.pyplot as plt\n",
        "\n",
        "# Optional: make plot prettier\n",
        "plt.figure(figsize=(10, 6))\n",
        "sns.barplot(x='car make', y='Price (Rupees)', data=df, palette='viridis')\n",
        "\n",
        "# Add labels and title\n",
        "plt.xlabel('Car Make')\n",
        "plt.ylabel('Price (in Rupees)')\n",
        "plt.title('Car Make vs Price')\n",
        "plt.xticks(rotation=15)\n",
        "plt.tight_layout()\n",
        "plt.show()"
      ],
      "metadata": {
        "colab": {
          "base_uri": "https://localhost:8080/",
          "height": 698
        },
        "id": "cLIQhv3LK-Sz",
        "outputId": "03491541-bd6f-4765-e76f-ae1654bb8be8"
      },
      "execution_count": 228,
      "outputs": [
        {
          "output_type": "stream",
          "name": "stderr",
          "text": [
            "/tmp/ipython-input-228-1790248423.py:6: FutureWarning: \n",
            "\n",
            "Passing `palette` without assigning `hue` is deprecated and will be removed in v0.14.0. Assign the `x` variable to `hue` and set `legend=False` for the same effect.\n",
            "\n",
            "  sns.barplot(x='car make', y='Price (Rupees)', data=df, palette='viridis')\n"
          ]
        },
        {
          "output_type": "display_data",
          "data": {
            "text/plain": [
              "<Figure size 1000x600 with 1 Axes>"
            ],
            "image/png": "[encoded data removed]"
          },
          "metadata": {}
        }
      ]
    },
    {
      "cell_type": "markdown",
      "source": [
        "CONCLUSION: Price of branded car make is higher comparision to others"
      ],
      "metadata": {
        "id": "tEtMPoflLqDT"
      }
    }
  ]
}